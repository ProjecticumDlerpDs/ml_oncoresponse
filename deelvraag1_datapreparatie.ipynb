{
 "cells": [
  {
   "cell_type": "markdown",
   "id": "7291747d-fc57-4701-9eb9-c203035a41ad",
   "metadata": {},
   "source": [
    "# titel"
   ]
  },
  {
   "cell_type": "markdown",
   "id": "dc5fd225-b275-4419-98d5-9a03b58068bf",
   "metadata": {},
   "source": [
    "[ inleiding + deelvraag "
   ]
  },
  {
   "cell_type": "markdown",
   "id": "58b5decb-ad41-4eae-b25c-d7f853049443",
   "metadata": {},
   "source": [
    "Situatie: Ik heb 3 verschillende bestanden die moeten worden samengevoegd:\n",
    "- OmicsSomaticMutations.csv > bevat de mutatieprofielen\n",
    "- Drug_sensitivity_AUC_(PRISM_Repurposing_Secondary_Screen)_subsetted.csv > bevat de response (AUC-waarden)\n",
    "- CCLE_RRBS_TSS1kb_20181022.txt > bevat de methylatieprofielen\n",
    "\n",
    "Ik weet welke feature ik uit de bestanden nodig heb, maar nog niet de precieze kolomnamen. Het lijkt me daarom de beste aanpak om eerst de bestanden apart te verkennen en te filteren en om ze daarna pas samen te voegen. Als je meteen alles merge't, krijg je een gigantische rommelige dataset met heel veel kolommen die je niet nodig hebt. Dat kan er  voor zorgen dat je het overzicht verliest. Door per bestand eerst te filteren p de relevante featuer, hou je kleinere, schone tabellen over die je daarna netjes kunt samenvoegen. Het scheelt ook rekenkracht en tijd.\n",
    "\n"
   ]
  },
  {
   "cell_type": "code",
   "execution_count": null,
   "id": "4b1a4d45-9e76-4bca-8b39-db175b3d353e",
   "metadata": {},
   "outputs": [],
   "source": []
  },
  {
   "cell_type": "code",
   "execution_count": null,
   "id": "66cc14c9-1819-40fe-a5ea-e5f0609c52e5",
   "metadata": {},
   "outputs": [],
   "source": []
  },
  {
   "cell_type": "code",
   "execution_count": null,
   "id": "3ca80c1f-9bfe-41d9-a4b6-933ab0b13dad",
   "metadata": {},
   "outputs": [],
   "source": []
  }
 ],
 "metadata": {
  "kernelspec": {
   "display_name": "Python [conda env:base] *",
   "language": "python",
   "name": "conda-base-py"
  },
  "language_info": {
   "codemirror_mode": {
    "name": "ipython",
    "version": 3
   },
   "file_extension": ".py",
   "mimetype": "text/x-python",
   "name": "python",
   "nbconvert_exporter": "python",
   "pygments_lexer": "ipython3",
   "version": "3.13.5"
  }
 },
 "nbformat": 4,
 "nbformat_minor": 5
}
