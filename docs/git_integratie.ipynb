{
 "cells": [
  {
   "cell_type": "code",
   "execution_count": 1,
   "id": "1b854ce1-3416-40f1-9910-62ddd61d57fe",
   "metadata": {},
   "outputs": [
    {
     "ename": "SyntaxError",
     "evalue": "unterminated string literal (detected at line 57) (366877939.py, line 57)",
     "output_type": "error",
     "traceback": [
      "\u001b[0;36m  Cell \u001b[0;32mIn[1], line 57\u001b[0;36m\u001b[0m\n\u001b[0;31m    Probleem: Bij een eerder project liep ik vast toen ik in Github bij het aanmaken van een repository een README toevoegde. Hierdoor had de remote al een commit, waardoor ik mijn lokale bestanden niet direct kon pushen (foutmelding: \"failed to push some refs).\u001b[0m\n\u001b[0m                                                                                                                                                                                                                                           ^\u001b[0m\n\u001b[0;31mSyntaxError\u001b[0m\u001b[0;31m:\u001b[0m unterminated string literal (detected at line 57)\n"
     ]
    }
   ],
   "source": [
    "# Git integratie in JupyterLab\n",
    "\n",
    "criterium 3,10,11?\n",
    "\n",
    "In dit bewijsstuk laat ik zien hoe ik Git en Github heb gekoppeld aan mijn JupyterLab-omgeving. Ik werk lokaal aan code en analyses en wil deze veilig opslaan. Ook wil ik dat mijn werk reproduceerbaar is en versiebeheer heeft. Door mijn lokale map te koppelen aan een repository op Github kan ik:\n",
    "- al mijn code centraal bewaren en terugvinden,\n",
    "- veranderingen stap voor stap bijhouden (versiebeheer),\n",
    "- mijn werk veiligstellen,\n",
    "- en samenwerken of mijn project eenvoudig delen.\n",
    "\n",
    "## Situatie en keuze\n",
    "Ik had al een lokale map (`ml_oncoresponse`) met bestanden waarin ik werkte. Op het gedeelde schoolacccount (`ProjecticumDlerpDs`) heb ik een lege repository met dezelfde naam (`ml_oncorepsonse`) aangemaakt op Github. Bij het koppelen van een lokale map aan Github zijn er twee mogelijkheden:\n",
    "1. **`git clone`**: dit haalt een bestaande repository van Github naar je computer. Dit is handig als je wilt beginnen vanuit een repository die al gevuld is met bestanden. In mijn situatie werkte dit niet goed omdat ik al bestanden lokaal had en op een gedeelde schoolaccount beperkte rechten had, kreeg ik foutmeldingen bij het klonen.\n",
    "2. **`git init`**: dit zet een bestaande lokala map om in een Git-repository, waarna je de remote (GitHub) kunt koppelen. Dit paste beter bij mijn situatie aangezien ik lokaal al bestanden had en mijn Github-repository leeg was.\n",
    "\n",
    "Daarnaast had ik bewust geen README toegevoegd bij het aanmaken van de nieuwe repository op Github om conflicts te voorkomen. Ik weet nog van project DlerpA dat dit problemen opleverde. Gezien mijn situatie heb ik dus gekozen voor de tweede optie, `git init`.\n",
    "\n",
    "\n",
    "## Lokale map kopppelen aan Github. \n",
    "1. Maak een lege map voor Git:  \n",
    "   `cd ~`  \n",
    "   `mkdir ml_oncoresponse`  \n",
    "   `cd ml_oncoresponse`\n",
    "2. Initialiseer Git en hernoem branch naar main:  \n",
    "   `git init`  \n",
    "   `git branch -M main`\n",
    "3. Voeg de remote GitHub-repo toe:\n",
    "   `git remote add origin https://github.com/ProjecticumDlerpDs/ml_oncoresponse.git`  \n",
    "   `git remote -v`\n",
    "4. Kopieer bestaande bestanden vanuit backup-map:  \n",
    "   `cp -r ../ml_oncoresponse_backup/* ./`\n",
    "5. Voeg alle bestanden toe aan Git:  \n",
    "   `git add --all`\n",
    "6. Maak de eerste commit:  \n",
    "   `git commit -m \"Eerste commit: bestaande bestanden toegevoegd\"`\n",
    "7. Push naar Github:  \n",
    "   `git push -u origin main`\n",
    "8. Authenticatie:\n",
    "   - Maak een Personal Access Token (PAT) aan in je Github-account.\n",
    "   - Gebruik je Github-gebruikersnaam als username en de PAT als wachtwoord bij push.\n",
    "\n",
    "## Problemen die zijn opgetreden en hoe deze zijn opgelost\n",
    "\n",
    "**Clone in bestaande map:**  \n",
    "Foutmelding: \"destination path already exist and is not an empty directory\"  \n",
    "Oplossing: ik heb een backup map gemaakt met de bestanden, en er voor gezorgd dat de map `ml_oncoresponse` leeg is.\n",
    "\n",
    "**Submodule-fout bij `git add`:**\n",
    "Foutmelding: error: \"'ml_oncoresponse/' does not have a commit checked out\"\n",
    "Oplossing: gebruiken git add --all in plaats van de mapnaam\n",
    "\n",
    "**Authenticatieprobleem bij push:**  \n",
    "Foutmelding: \"Password authentication is nog supported for Git operations\"   \n",
    "Oplossing: PAT aanmaken en gebruiken in plaats van wachtwoord.\n",
    "\n",
    "**Conflict door README (evaring uit vorig project):**\n",
    "Probleem: Bij een eerder project liep ik vast toen ik in Github bij het aanmaken van een repository een README toevoegde. Hierdoor had de remote al een commit, waardoor ik mijn lokale bestanden niet direct kon pushen (foutmelding: \"failed to push some refs).\n",
    "Oplossing/Voorkomen: Bij dit project heb ik expres **geen README toegevoegd** bij het aanmaken van de repository, zodat de remote leef bleef en ik mijn repo zonder problemen kon koppelen.\n",
    "\n",
    "\n",
    "## Conclusie\n",
    "- De lokale map is nu volledig gekoppeld aan de Github-repo op het gedeelde schoolaccount.\n",
    "- Alle bestanden zijn succesvol gepusht.\n",
    "- Dagelijkse workflow: git add --all --> git commit --> git push\n",
    "- Probleemoplossend vermogen getoond door submodule-issues, clone-conflict, en authenticatieproblemen op te lossen.\n",
    "- Bewuste keuze gemaakt voor `git init` in plaats van `git clone`, passend bij de situatie van een bestaande lokale map en beperkte rechten op het schoolaccount.\n",
    "- Geleerd van een eerder project: door bij het aanmaken van de repo geen README toe te voegen, voorkwam ik push-conflicten die ik eerder wel had ervaren.\n",
    "\n"
   ]
  },
  {
   "cell_type": "code",
   "execution_count": null,
   "id": "c78f6318-f99c-41a9-badc-6626e93335df",
   "metadata": {},
   "outputs": [],
   "source": []
  }
 ],
 "metadata": {
  "kernelspec": {
   "display_name": "Python 3 (ipykernel)",
   "language": "python",
   "name": "python3"
  },
  "language_info": {
   "codemirror_mode": {
    "name": "ipython",
    "version": 3
   },
   "file_extension": ".py",
   "mimetype": "text/x-python",
   "name": "python",
   "nbconvert_exporter": "python",
   "pygments_lexer": "ipython3",
   "version": "3.13.5"
  }
 },
 "nbformat": 4,
 "nbformat_minor": 5
}
