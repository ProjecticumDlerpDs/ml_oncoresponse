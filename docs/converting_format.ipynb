{
 "cells": [
  {
   "cell_type": "markdown",
   "id": "ee170c26-c845-41a4-b2e1-ffeac927fa53",
   "metadata": {},
   "source": [
    "# Markdown/Notebook naar PDF: integratie van terminal en Pandoc in JupyterLab\n",
    "\n",
    "In dit bewijsstuk laat ik zien dat ik oefen met mijn nieuwe werkomgeving (JupyterLab) door mijn bewijsstukkken niet standaard in Word, maar in een Jupyter Notebook te schrijven. Omdat `.ipynb`-bestanden niet rechtstreeks kunnen worden ingeleverd in Portflow, ben ik gaan onderzoeken hoe ik deze kan omzetten naar een geschikt bestandsformaat zoals `.pdf`.\n",
    "\n",
    "In Rstudio kon ik eenvoudig exporteren naar PDF, maar binnen JupyterLab bleek dit niet zo te zijn. Ik heb daarom zelf uitgezocht hoe dit conversieproces werkt, welke tools hiervoor nodig zijn, en hoe ik de tegengekomen problemen heb opgelost. \n",
    "\n",
    "Hiermee toon ik aan dat ik nieuwe kennis en vaardigheden heb toegepast in mijn werkomgeving (criterium 2) en dat ik zelfstandig verantwoordelijkheid neem voor mijn leerproces door actief oplossingen te zoeken en mijn werkomgeving beter te leren kennen (criterium 11). \n",
    "\n",
    "In derest van dit document beschrijf ik mijn aanpak, de installatie en integratie van Pandoc in Jupyter, de tests die ik heb uitgevoerd en de resultaten van deze werkwijze."
   ]
  },
  {
   "cell_type": "markdown",
   "id": "8d1f9e55-867b-4643-9ec6-2954ff6e4872",
   "metadata": {},
   "source": [
    "### Installatie en conversie\n",
    "Ik heb twee verschillende methoden gevonden om Jupyter Notebooks naar PDF te converteren:\n",
    "\n",
    "1. Pandoc - een commandline tool waarmee je verschillende bestandsformaten kunt omzetten.\n",
    "2. Jupyter nbconvert - een ingebouwde Jupyter-functie die gebruikmaakt van LaTeX om PDF-bestanden te genereren\n",
    "\n",
    "Na testen bleek `nbconvert` beter geschikt omdat dit ook codecellen en de bijbehorende uitvoer netjes mee neemt in het PDF-bestand. Via `pandoc` zie je uiteindelijk alleen de markdowncellen terug. "
   ]
  },
  {
   "cell_type": "markdown",
   "id": "93097a01-560d-4ffc-87df-2fae94fc11a9",
   "metadata": {},
   "source": [
    "### Controle installatie en eerste test met Pandoc"
   ]
  },
  {
   "cell_type": "code",
   "execution_count": null,
   "id": "d2cf4726-ac7a-4098-8f9c-9dcd428a7332",
   "metadata": {},
   "outputs": [],
   "source": [
    "# controleer huidige directory (zorg er voor dat je in de map zit waar het bestand te vinden is dat je wilt converteren)\n",
    "pwd\n",
    "\n",
    "# controleer of Pandoc is geinstalleerd\n",
    "pandoc --version\n",
    "\n",
    "# converteer notebook naar PDF\n",
    "pandoc -o converting_format.pdf converting_format.ipynb "
   ]
  },
  {
   "cell_type": "markdown",
   "id": "c2c62c48-7006-4eec-b57d-9a7c37ae7117",
   "metadata": {},
   "source": [
    "Het PDF-bestand werd succesvol aangemaakt, maar ik merkte dat de codecellen niet zichtbaar waren in het eindresultaat. Ook zag de opmaak er niet optimaal uit. Pandoc blijkt vooral bedoeld te zijn voor Markdown (.md) en niet voor de notebook structuur. "
   ]
  },
  {
   "cell_type": "markdown",
   "id": "bc0e66f0-49c2-411a-945a-c3aa410a32b7",
   "metadata": {},
   "source": [
    "### PDF export via Jupyter nbconvert\n",
    "\n",
    "Tijdens het omzetten van het notebook naar PDF met `nbconvert` kwamen verschillende LaTeX-fouten voor. Eerst probeerde ik losse LaTeX-pakkette te installeren met behulp van chatGPT, maar er ontstonden fouten zoals:\n",
    "\n",
    "- `! LaTex Error: File 'eurosym.sty' not found.`\n",
    "\n",
    "- nog andere ontbrekende pakketten die nodig zijn voor notatie van tekens (bijvoorbeeld \"€\") en opmaak\n",
    "\n",
    "Uiteindelijk kreeg ik het advies van ChatGPT om een volledige LaTeX-distributie te installeren (TinyTeX volledig), waardoor alle benodigde pakketten automatisch beschikbaar kwamen. Het is nu gelukt om een notebook om te zetten naar een pdf-bestand met het volgende commando:"
   ]
  },
  {
   "cell_type": "code",
   "execution_count": null,
   "id": "b6d1132a-3f68-4fd8-8595-52c2a7d98586",
   "metadata": {},
   "outputs": [],
   "source": [
    "### converteren met nbconvert\n",
    "jupyter nbconvert --to pdf converting_format.ipynb"
   ]
  },
  {
   "cell_type": "markdown",
   "id": "ac400f17-9cff-4d14-839b-8cba626d37ac",
   "metadata": {},
   "source": [
    "Het viel me direct op dat ook de opmaak veel beter is. De codecellen worden netjes weergegeven, er zijn geen grote lege ruimtes aan de zijkanten meer, en de inhoud wordt goed verdeeld over meerdere pagin's, wat het geheel overzichtelijker maakt.\n",
    "\n",
    "De LaTeX-library die gebruikt wordt door `nbconvert` biedt ook veel mogelijkheden om de layout van het bestaande notebook aan te passen. Dit was eigenlijk het volgende punt waar ik naar wilde kijken. Denk bijvoorbeeld aan lettertype, grootte en kleur van tekst en code, maar ook aan stijlen voor tabellen, figuren en speciale elementen zoals formules.\n"
   ]
  }
 ],
 "metadata": {
  "kernelspec": {
   "display_name": "Python (ml_oncoresponse)",
   "language": "python",
   "name": "ml_oncoresponse"
  },
  "language_info": {
   "codemirror_mode": {
    "name": "ipython",
    "version": 3
   },
   "file_extension": ".py",
   "mimetype": "text/x-python",
   "name": "python",
   "nbconvert_exporter": "python",
   "pygments_lexer": "ipython3",
   "version": "3.13.5"
  }
 },
 "nbformat": 4,
 "nbformat_minor": 5
}
