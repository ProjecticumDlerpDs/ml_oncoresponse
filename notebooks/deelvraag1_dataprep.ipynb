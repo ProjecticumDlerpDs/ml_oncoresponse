{
 "cells": [
  {
   "cell_type": "code",
   "execution_count": null,
   "id": "545efc06-0ca0-4302-89af-4ae2ca8ba547",
   "metadata": {},
   "outputs": [],
   "source": []
  },
  {
   "cell_type": "markdown",
   "id": "7d116a2b-2841-4afa-9424-f9fb3f7940c9",
   "metadata": {
    "jupyter": {
     "source_hidden": true
    }
   },
   "source": [
    "## Data-preparatie\n",
    "\n",
    "Dit notebook behandelt de data-preparatie en geeft antwoord op deelvraag 1:\n",
    "\n",
    "*\"Hoe kan cellijn-data (mutaties, methylatie, drug-respons) worden verzameld, opgeschoond en geschikt gemaakt voor machine learning?\"*\n",
    "\n",
    "Voor dit onderzoek worden drie afzonderlijke datasets gebruikt die afkomstig zijn van het CCLE-project (Cancer Cell Line Encyclopedia). De data beschrijven verschillende moleculaire kenmerken van kankercellijnen:\n",
    "\n",
    "- OmicsSomaticMutations.csv - bevat de somatische mutatieprofielen van de cellijnen.\n",
    "- CCLE_RRBS_TSS1kb_20181022.txt - bevat DNA-methylatiegegevens gemeten rond de Transcription Start Site (TSS, ±1 kb). Dit gebied omvat zowel promoterregio's als het eerste exon, die belangrijk zijn voor genregulatie.\n",
    "- Drug_sensitivity_AUC_(PRISM_Repurposing_Secondary_Screen)_subsetted.csv - bevat therapieresponsgegevens (AUC-waarden) die aangeven hoe gevoelig een cellijn is voor een bepaald medicijn.\n",
    "\n",
    "Het uiteindelijke doel is om een dataset te creëren waarin elke longkankercellijn zowel moleculaire kenmerken (mutaties en methylatie) als een responswaarde (AUC) bevat, zodat deze kan worden gebruikt als input voor supervised machine learning.\n",
    "\n",
    "**xxx** toelichting CpG sites en avg coverage (kwaliteitsmaat) xxx:\n",
    "CpG_sites_hg19 = genomische voordinaten van CpG-sites in het Hg19-genoom\n",
    "avg_coverage = maat voor de betrouwbaarheid van de methylatie-metingen op dat locus\n",
    "\n",
    "TSS=Transcription Start Site, het beginpunt van een gen waar transcriptie start.\n",
    "±1kb betekent dat de gemeten regio 1 kilobase (1000bp) upstream en downstream van de TSS ligt\n",
    "dus direct rond het begin van het gen, inclusief een stukje voor (promotorgebied) en erna (eerste exon/regio vlakbij TSS)\n",
    "\n",
    "- Upstream van TSS (~1000 bp): dit is meestal de promoter. Methylatie hier kan de transcriptie van het gen onderdrukken.\n",
    "- Downstream van TSS (~1000 bp): dit is vaak het 5’ einde van het gen, inclusief exon 1 of de 5’ UTR. Methylatie hier kan ook effect hebben op genexpressie. methylatie in deze regio kan het initiatiefase van transcriptie veranderen, waardoor het gen minder of anders wordt afgelezen\n",
    "\n",
    "Nadenken over avg_coverage. minimum instellen. te lagen waarden weglaten omdat de methylatiepercentages dan ruis bevatten (in de literatuur 10>)\n",
    "laat ook zien want de impact is van die drempel."
   ]
  },
  {
   "cell_type": "markdown",
   "id": "23c38d5f-83d4-463e-b171-570ad6b3a569",
   "metadata": {},
   "source": [
    "\n",
    "#### Stap 1. Data verkennen\n",
    "\n",
    "Doel: inzicht krijgen in de structuur van elk bestand voor het filteren en samenvoegen.\n",
    "\n",
    "Het is belangrijk om de kolomnamen, rijenstructuur en datatypes te begrijpen. Zo krijg je inzicht in welke kolommen relevant zijn (bijv. cell_line_id, gene, AUC, avg_coverage) en kun je bepalen hoe de datasets aan elkaar gekoppeld kunnen worden.\n",
    "\n",
    "stappen:\n",
    "Controleer het aantal rijen/kolommen.\n",
    "Bekijk een paar voorbeeldrijen om de structuur te snappen.\n",
    "Noteer de naam van de kolom die de cellijn identificeert (ID).\n",
    "Kijk of de kolomnamen consistent zijn tussen bestanden.\n",
    "Kijk hoeveel unieke cellijnen er per bestand zijn.))\n"
   ]
  },
  {
   "cell_type": "code",
   "execution_count": 11,
   "id": "092e1d4e-41a2-4b67-a13b-852104736c85",
   "metadata": {},
   "outputs": [
    {
     "name": "stderr",
     "output_type": "stream",
     "text": [
      "/var/folders/hf/q9gpk8mn1l34cwvqff64g18c0000gn/T/ipykernel_14934/1651157059.py:7: DtypeWarning: Columns (22,50,56,57,58,59,61) have mixed types. Specify dtype option on import or set low_memory=False.\n",
      "  mutatie_df = pd.read_csv(mutatie_file) # csv, geen tabs\n"
     ]
    },
    {
     "name": "stdout",
     "output_type": "stream",
     "text": [
      "<class 'pandas.core.frame.DataFrame'>\n",
      "RangeIndex: 751310 entries, 0 to 751309\n",
      "Data columns (total 70 columns):\n",
      " #   Column                           Non-Null Count   Dtype  \n",
      "---  ------                           --------------   -----  \n",
      " 0   Chrom                            751310 non-null  object \n",
      " 1   Pos                              751310 non-null  int64  \n",
      " 2   Ref                              751310 non-null  object \n",
      " 3   Alt                              751310 non-null  object \n",
      " 4   AF                               751310 non-null  float64\n",
      " 5   DP                               751310 non-null  int64  \n",
      " 6   RefCount                         751310 non-null  int64  \n",
      " 7   AltCount                         751310 non-null  int64  \n",
      " 8   GT                               751310 non-null  object \n",
      " 9   PS                               44923 non-null   float64\n",
      " 10  VariantType                      751310 non-null  object \n",
      " 11  VariantInfo                      751310 non-null  object \n",
      " 12  DNAChange                        750960 non-null  object \n",
      " 13  ProteinChange                    726857 non-null  object \n",
      " 14  HugoSymbol                       751310 non-null  object \n",
      " 15  Exon                             728937 non-null  object \n",
      " 16  Intron                           23986 non-null   object \n",
      " 17  EnsemblGeneID                    751310 non-null  object \n",
      " 18  EnsemblFeatureID                 751310 non-null  object \n",
      " 19  HgncName                         734284 non-null  object \n",
      " 20  HgncFamily                       531438 non-null  object \n",
      " 21  UniprotID                        433949 non-null  object \n",
      " 22  DbsnpRsID                        12007 non-null   object \n",
      " 23  GcContent                        751310 non-null  float64\n",
      " 24  LofGeneName                      102748 non-null  object \n",
      " 25  LofGeneId                        102748 non-null  object \n",
      " 26  LofNumberOfTranscriptsInGene     102748 non-null  float64\n",
      " 27  LofPercentOfTranscriptsAffected  102748 non-null  float64\n",
      " 28  NMD                              30606 non-null   object \n",
      " 29  MolecularConsequence             25215 non-null   object \n",
      " 30  VepImpact                        751310 non-null  object \n",
      " 31  VepBiotype                       751310 non-null  object \n",
      " 32  VepHgncID                        751294 non-null  object \n",
      " 33  VepExistingVariation             397193 non-null  object \n",
      " 34  VepManeSelect                    735516 non-null  object \n",
      " 35  VepENSP                          749044 non-null  object \n",
      " 36  VepSwissprot                     693449 non-null  object \n",
      " 37  Sift                             599796 non-null  object \n",
      " 38  Polyphen                         577290 non-null  object \n",
      " 39  GnomadeAF                        751310 non-null  float64\n",
      " 40  GnomadgAF                        751310 non-null  float64\n",
      " 41  VepClinSig                       27442 non-null   object \n",
      " 42  VepSomatic                       254466 non-null  object \n",
      " 43  VepPliGeneValue                  664121 non-null  float64\n",
      " 44  VepLofTool                       562587 non-null  float64\n",
      " 45  OncogeneHighImpact               751310 non-null  bool   \n",
      " 46  TumorSuppressorHighImpact        751310 non-null  bool   \n",
      " 47  TranscriptLikelyLof              63420 non-null   object \n",
      " 48  Brca1FuncScore                   22 non-null      float64\n",
      " 49  CivicID                          1381 non-null    float64\n",
      " 50  CivicDescription                 728 non-null     object \n",
      " 51  CivicScore                       1381 non-null    float64\n",
      " 52  LikelyLoF                        751310 non-null  bool   \n",
      " 53  HessDriver                       751310 non-null  bool   \n",
      " 54  HessSignature                    2393 non-null    object \n",
      " 55  RevelScore                       574655 non-null  float64\n",
      " 56  PharmgkbId                       19 non-null      object \n",
      " 57  DidaID                           11 non-null      object \n",
      " 58  DidaName                         11 non-null      object \n",
      " 59  GwasDisease                      257 non-null     object \n",
      " 60  GwasPmID                         257 non-null     float64\n",
      " 61  GtexGene                         7 non-null       object \n",
      " 62  ProveanPrediction                558282 non-null  object \n",
      " 63  AMClass                          524520 non-null  object \n",
      " 64  AMPathogenicity                  524520 non-null  float64\n",
      " 65  Rescue                           751310 non-null  bool   \n",
      " 66  RescueReason                     18617 non-null   object \n",
      " 67  ModelID                          751310 non-null  object \n",
      " 68  Hotspot                          751310 non-null  bool   \n",
      " 69  EntrezGeneID                     744341 non-null  float64\n",
      "dtypes: bool(6), float64(16), int64(4), object(44)\n",
      "memory usage: 371.1+ MB\n",
      "  Chrom     Pos   Ref Alt     AF  DP  RefCount  AltCount   GT        PS  ...  \\\n",
      "0  chr1  818203     G   A  0.240  27        21         6  0/1       NaN  ...   \n",
      "1  chr1  851926     G   A  0.158  17        15         2  0/1       NaN  ...   \n",
      "2  chr1  918916  CTGA   C  0.462  51        28        23  0/1       NaN  ...   \n",
      "3  chr1  924510    GC  AA  0.412  35        21        14  0|1  924510.0  ...   \n",
      "4  chr1  924657     C   G  0.437  17         9         8  0/1       NaN  ...   \n",
      "\n",
      "  GwasPmID GtexGene ProveanPrediction AMClass AMPathogenicity Rescue  \\\n",
      "0      NaN      NaN               NaN     NaN             NaN  False   \n",
      "1      NaN      NaN               NaN     NaN             NaN  False   \n",
      "2      NaN      NaN               NaN     NaN             NaN  False   \n",
      "3      NaN      NaN               NaN     NaN             NaN  False   \n",
      "4      NaN      NaN               NaN     NaN             NaN  False   \n",
      "\n",
      "  RescueReason     ModelID Hotspot EntrezGeneID  \n",
      "0          NaN  ACH-000062   False     400728.0  \n",
      "1          NaN  ACH-001949   False     643837.0  \n",
      "2          NaN  ACH-002059   False  100130417.0  \n",
      "3          NaN  ACH-000402   False     148398.0  \n",
      "4          NaN  ACH-000693   False     148398.0  \n",
      "\n",
      "[5 rows x 70 columns]\n"
     ]
    }
   ],
   "source": [
    "import pandas as pd\n",
    "\n",
    "# aanmaken variabele met de bestandpad\n",
    "mutatie_file = \"../data/raw/OmicsSomaticMutations.csv\"\n",
    "\n",
    "# inlezen \n",
    "mutatie_df = pd.read_csv(mutatie_file) # csv, geen tabs\n",
    "\n",
    "# verkenning\n",
    "mutatie_df.info()\n",
    "print(mutatie_df.head()) \n"
   ]
  },
  {
   "cell_type": "markdown",
   "id": "9b083fd8-6718-4f28-aa87-034caac01ab1",
   "metadata": {},
   "source": [
    "De mutatie-dataset bevat 751310 rijen en 70 kolommen en bestaat uit de volgende datatypen:\n",
    "\n",
    "- object: tekst/categorieën (bijvoorbeeld genen en mutatietypes)\n",
    "- float64: decimale waarden\n",
    "- bool: waar/onwaar waarden (True/False)\n",
    "- int64: hele getallen (bijvoorbeeld aantallen mutaties)\n",
    "\n",
    "Belangrijk voor dit onderzoek:\n",
    "ModelID: koppeling tussen datasets\n",
    "HugoSymbol/EnsemblGeneID: gen waarin mutatie voorkomt\n",
    "VariantType: type mutatie (feature voor ML)\n",
    "DNAChange/ProteinChange: optioneel voor interpretatie\n",
    "AF, RefCount, AltCount: betrouwbaarheid / filteren\n",
    "LikelyLoF, OncogeneHighImpact, TumorSuppressorHighImpact: impact op functie/belangrijke features\n",
    "Sift, Polyphen, RevelScore: schadelijkheidsvoorspelling\n",
    "PrimaryDisease/Tissue: filteren op longkankercellijnen"
   ]
  },
  {
   "cell_type": "code",
   "execution_count": 16,
   "id": "293e623f-b037-483b-a0e5-76a879827c42",
   "metadata": {
    "collapsed": true,
    "jupyter": {
     "outputs_hidden": true
    },
    "scrolled": true
   },
   "outputs": [
    {
     "name": "stderr",
     "output_type": "stream",
     "text": [
      "/var/folders/hf/q9gpk8mn1l34cwvqff64g18c0000gn/T/ipykernel_14934/1102694824.py:5: DtypeWarning: Columns (2,618) have mixed types. Specify dtype option on import or set low_memory=False.\n",
      "  methylatie_df = pd.read_csv(methylatie_file, sep='\\t') # txt, tab seperated\n"
     ]
    },
    {
     "name": "stdout",
     "output_type": "stream",
     "text": [
      "Aantal rijen en kolommen: (21338, 846)\n",
      "Eerste 5 kolommen: ['locus_id', 'CpG_sites_hg19', 'avg_coverage', 'DMS53_LUNG', 'SW1116_LARGE_INTESTINE', 'P3HR1_HAEMATOPOIETIC_AND_LYMPHOID_TISSUE', 'HUT78_HAEMATOPOIETIC_AND_LYMPHOID_TISSUE', 'UMUC3_URINARY_TRACT', 'HOS_BONE', 'AML193_HAEMATOPOIETIC_AND_LYMPHOID_TISSUE']\n",
      "Laatste 5 kolommen: ['JHUEM7_ENDOMETRIUM', 'OE21_OESOPHAGUS', 'MOLT3_HAEMATOPOIETIC_AND_LYMPHOID_TISSUE', 'HOP62_LUNG', 'EKVX_LUNG', 'UO31_KIDNEY', 'SF268_CENTRAL_NERVOUS_SYSTEM', 'SF539_CENTRAL_NERVOUS_SYSTEM', 'SNB75_CENTRAL_NERVOUS_SYSTEM', 'HOP92_LUNG']\n",
      "                                       kolom   dtype  n_missing\n",
      "0                                   locus_id  object          0\n",
      "1                             CpG_sites_hg19  object          1\n",
      "2                               avg_coverage  object          0\n",
      "3                                 DMS53_LUNG  object          0\n",
      "4                     SW1116_LARGE_INTESTINE  object          0\n",
      "5   P3HR1_HAEMATOPOIETIC_AND_LYMPHOID_TISSUE  object          0\n",
      "6   HUT78_HAEMATOPOIETIC_AND_LYMPHOID_TISSUE  object          0\n",
      "7                        UMUC3_URINARY_TRACT  object          0\n",
      "8                                   HOS_BONE  object          0\n",
      "9  AML193_HAEMATOPOIETIC_AND_LYMPHOID_TISSUE  object          0\n",
      "                                        kolom   dtype  n_missing\n",
      "836                        JHUEM7_ENDOMETRIUM  object          0\n",
      "837                           OE21_OESOPHAGUS  object          0\n",
      "838  MOLT3_HAEMATOPOIETIC_AND_LYMPHOID_TISSUE  object          0\n",
      "839                                HOP62_LUNG  object          0\n",
      "840                                 EKVX_LUNG  object          0\n",
      "841                               UO31_KIDNEY  object          0\n",
      "842              SF268_CENTRAL_NERVOUS_SYSTEM  object          0\n",
      "843              SF539_CENTRAL_NERVOUS_SYSTEM  object          0\n",
      "844              SNB75_CENTRAL_NERVOUS_SYSTEM  object          0\n",
      "845                                HOP92_LUNG  object          0\n"
     ]
    }
   ],
   "source": [
    "# aanmaken variabele met de bestandpad\n",
    "methylatie_file = \"../data/raw/CCLE_RRBS_TSS1kb_20181022.txt\"\n",
    "\n",
    "# inlezen\n",
    "methylatie_df = pd.read_csv(methylatie_file, sep='\\t') # txt, tab seperated\n",
    "\n",
    "# verkenning\n",
    "print(\"Aantal rijen en kolommen:\", methylatie_df.shape) # globale info\n",
    "\n",
    "# eerste en laatste 5 kolmmen bekijken\n",
    "print(\"Eerste 5 kolommen:\", methylatie_df.columns[:10].tolist())\n",
    "print(\"Laatste 5 kolommen:\", methylatie_df.columns[-10:].tolist())\n",
    "\n",
    "# datatypes en missende waarden per kolom bekijken\n",
    "kolom_info_methylatie = pd.DataFrame({ # aanmaken dataframe (met 3 kolommen)\n",
    "    'kolom': methylatie_df.columns,\n",
    "    'dtype': [methylatie_df[col].dtype for col in methylatie_df.columns],\n",
    "    'n_missing': [methylatie_df[col].isna().sum() for col in methylatie_df.columns] # bepaald totaal aantal missende waarden voor elke kolom\n",
    "})\n",
    "\n",
    "# eerste 10 en laatste 10 kolommen tonen als voorbeeld\n",
    "print(kolom_info_methylatie.head(10)) # eerste 10 kolommen\n",
    "print(kolom_info_methylatie.tail(10)) # laatste 10 kolommen"
   ]
  },
  {
   "cell_type": "markdown",
   "id": "5c3b2819-8192-4a9a-993a-08dd3f17ece8",
   "metadata": {},
   "source": [
    "De methylatie-dataset bevat 21338 rijen en 846 kolommen. Elke rij vertegenwoordigt een specifieke CpG-locus, een locatie op het DNA waar methylatie kan optreden.\n",
    "\n",
    "De eerste kolommen bevatten metadata:\n",
    "- `locus_id`: unieke identifier van de CpG-locus\n",
    "- `CpG_sites_hg19`:genoompositie van de locus\n",
    "- `avg_coverage`: gemiddelde meetdiepte, een maat voor de betrouwbaarheid van de meting\n",
    "\n",
    "Alle overige kolommen (vanaf kolom 4) vertegenwoordigen de cellijnen. Wat me opvalt is dat dit bestand geen ACH- of ModelID bevat. In plaats daarvan worden cellijnen geidentificeerd op basis van hun naam,  waarbij de kolomtitel zowel de cellijnnam als het weefseltype bevat  (bijvoorbeeld `DMS53_LUNG`).\n",
    "\n",
    "**Let op!** Om de drie datasets samen te voegen zal een mapping moeten worden gemaakt van deze kolomnamen naar de bijbehorende ACH_ID. Dit zal worden uitgevoerd in stap 5 (samenvoegen)."
   ]
  },
  {
   "cell_type": "code",
   "execution_count": 40,
   "id": "05dbeead-ade9-4c8a-b174-cbdad6d4b54d",
   "metadata": {
    "collapsed": true,
    "jupyter": {
     "outputs_hidden": true
    }
   },
   "outputs": [
    {
     "name": "stdout",
     "output_type": "stream",
     "text": [
      "                                               kolom    dtype  n_missing\n",
      "0                                          depmap_id   object          0\n",
      "1                             cell_line_display_name   object          0\n",
      "2                                          lineage_1   object          0\n",
      "3                                          lineage_2   object          0\n",
      "4                                          lineage_3   object          0\n",
      "5                                          lineage_6   object        436\n",
      "6                                          lineage_4  float64        480\n",
      "7          8-BROMO-CGMP (BRD:BRD-A00077618-236-07-6)  float64        370\n",
      "8          NORETYNODREL (BRD:BRD-A00758722-001-04-9)  float64         98\n",
      "9  PREDNISOLONE-ACETATE (BRD:BRD-A01643550-001-04-9)  float64        432\n",
      "                                                  kolom    dtype  n_missing\n",
      "1447            LORLATINIB (BRD:BRD-K99879819-001-02-1)  float64        326\n",
      "1448       HEXYLRESORCINOL (BRD:BRD-K99946902-001-07-5)  float64        212\n",
      "1449               BOSULIF (BRD:BRD-K99964838-001-11-9)  float64        220\n",
      "1450      AMMONIUM-LACTATE (BRD:BRD-M29182745-001-01-4)  float64        433\n",
      "1451           NEMONAPRIDE (BRD:BRD-M80207679-001-01-5)  float64        446\n",
      "1452            CROMAKALIM (BRD:BRD-M89827113-001-01-5)  float64        325\n",
      "1453  EFONIDIPINE-MONOETHANOLATE (BRD:BRD-M92675308-...  float64        164\n",
      "1454       DICHLOROACETATE (BRD:BRD-M97302542-001-04-4)  float64        234\n",
      "1455             TYLOXAPOL (BRD:BRD-U25960968-000-01-9)  float64        386\n",
      "1456             SEVELAMER (BRD:BRD-U45393375-000-01-6)  float64        463\n"
     ]
    }
   ],
   "source": [
    "# aanmaken variabele met de bestandpad\n",
    "response_file = \"../data/raw/Drug_sensitivity_AUC_(PRISM_Repurposing_Secondary_Screen)_subsetted.csv\"\n",
    "# inlezen\n",
    "response_df = pd.read_csv(response_file, sep=',') # comma seperated\n",
    "\n",
    "# datatypes en missende waarden per kolom bekijken\n",
    "kolom_info_response = pd.DataFrame({\n",
    "    'kolom': response_df.columns,\n",
    "    'dtype': [response_df[col].dtype for col in response_df.columns],\n",
    "    'n_missing': [response_df[col].isna().sum() for col in response_df.columns]\n",
    "})\n",
    "\n",
    "# eerste 20 kolommen tonen als voorbeeld\n",
    "print(kolom_info_response.head(10))\n",
    "print(kolom_info_response.tail(10))\n"
   ]
  },
  {
   "cell_type": "code",
   "execution_count": 46,
   "id": "a5ee8d97-bc85-477e-b015-32305e55739d",
   "metadata": {
    "collapsed": true,
    "jupyter": {
     "outputs_hidden": true,
     "source_hidden": true
    }
   },
   "outputs": [
    {
     "name": "stdout",
     "output_type": "stream",
     "text": [
      "Aantal rijen en kolommen: (480, 1457)\n",
      "                                               kolom    dtype  n_missing\n",
      "0                                          depmap_id   object          0\n",
      "1                             cell_line_display_name   object          0\n",
      "2                                          lineage_1   object          0\n",
      "3                                          lineage_2   object          0\n",
      "4                                          lineage_3   object          0\n",
      "5                                          lineage_6   object        436\n",
      "6                                          lineage_4  float64        480\n",
      "7          8-BROMO-CGMP (BRD:BRD-A00077618-236-07-6)  float64        370\n",
      "8          NORETYNODREL (BRD:BRD-A00758722-001-04-9)  float64         98\n",
      "9  PREDNISOLONE-ACETATE (BRD:BRD-A01643550-001-04-9)  float64        432\n",
      "                                                  kolom    dtype  n_missing\n",
      "1447            LORLATINIB (BRD:BRD-K99879819-001-02-1)  float64        326\n",
      "1448       HEXYLRESORCINOL (BRD:BRD-K99946902-001-07-5)  float64        212\n",
      "1449               BOSULIF (BRD:BRD-K99964838-001-11-9)  float64        220\n",
      "1450      AMMONIUM-LACTATE (BRD:BRD-M29182745-001-01-4)  float64        433\n",
      "1451           NEMONAPRIDE (BRD:BRD-M80207679-001-01-5)  float64        446\n",
      "1452            CROMAKALIM (BRD:BRD-M89827113-001-01-5)  float64        325\n",
      "1453  EFONIDIPINE-MONOETHANOLATE (BRD:BRD-M92675308-...  float64        164\n",
      "1454       DICHLOROACETATE (BRD:BRD-M97302542-001-04-4)  float64        234\n",
      "1455             TYLOXAPOL (BRD:BRD-U25960968-000-01-9)  float64        386\n",
      "1456             SEVELAMER (BRD:BRD-U45393375-000-01-6)  float64        463\n",
      "    depmap_id cell_line_display_name              lineage_1  \\\n",
      "0  ACH-000973                   639V  Bladder/Urinary Tract   \n",
      "1  ACH-001016                 BECKER              CNS/Brain   \n",
      "2  ACH-000927                  BT474                 Breast   \n",
      "3  ACH-000288                  BT549                 Breast   \n",
      "4  ACH-000212                 CAL120                 Breast   \n",
      "\n",
      "                   lineage_2                         lineage_3  \\\n",
      "0            Urethral Cancer     Urethral Urothelial Carcinoma   \n",
      "1             Diffuse Glioma                       Astrocytoma   \n",
      "2  Invasive Breast Carcinoma  Breast Invasive Ductal Carcinoma   \n",
      "3  Invasive Breast Carcinoma    Breast Invasive Carcinoma, NOS   \n",
      "4  Invasive Breast Carcinoma         Invasive Breast Carcinoma   \n",
      "\n",
      "         lineage_6  lineage_4  8-BROMO-CGMP (BRD:BRD-A00077618-236-07-6)  \\\n",
      "0              NaN        NaN                                   0.887284   \n",
      "1              NaN        NaN                                   0.932656   \n",
      "2  ER+, PR+, HER2+        NaN                                        NaN   \n",
      "3     Basal B TNBC        NaN                                        NaN   \n",
      "4     Basal B TNBC        NaN                                        NaN   \n",
      "\n",
      "   NORETYNODREL (BRD:BRD-A00758722-001-04-9)  \\\n",
      "0                                   0.870060   \n",
      "1                                   0.950242   \n",
      "2                                   0.874661   \n",
      "3                                   0.974322   \n",
      "4                                        NaN   \n",
      "\n",
      "   PREDNISOLONE-ACETATE (BRD:BRD-A01643550-001-04-9)  \n",
      "0                                                NaN  \n",
      "1                                                NaN  \n",
      "2                                                NaN  \n",
      "3                                                NaN  \n",
      "4                                                NaN  \n"
     ]
    }
   ],
   "source": [
    "# aanmaken variabele met de bestandpad\n",
    "response_file = \"../data/raw/Drug_sensitivity_AUC_(PRISM_Repurposing_Secondary_Screen)_subsetted.csv\"\n",
    "# inlezen\n",
    "response_df = pd.read_csv(response_file, sep=',') # comma seperated\n",
    "\n",
    "# verkenning\n",
    "print(\"Aantal rijen en kolommen:\", response_df.shape) # geeft het aantal rijen en kolommen\n",
    "\n",
    "# datatypes en missende waarden per kolom bekijken\n",
    "kolom_info_response = pd.DataFrame({\n",
    "    'kolom': response_df.columns,\n",
    "    'dtype': [response_df[col].dtype for col in response_df.columns],\n",
    "    'n_missing': [response_df[col].isna().sum() for col in response_df.columns]\n",
    "})\n",
    "\n",
    "# eerste 20 kolommen tonen als voorbeeld\n",
    "print(kolom_info_response.head(10))\n",
    "print(kolom_info_response.tail(10))\n",
    "\n",
    "print(response_df.iloc[:5,:10])"
   ]
  },
  {
   "cell_type": "markdown",
   "id": "75fb1f3d-aade-44b4-8ff8-70de937f1ba1",
   "metadata": {},
   "source": [
    "De response-dataset bevat 480 rijen, waarbij elke rij een unieke cellijn representeert, en 1457 kolommen. \n",
    "De eerste kolommen bevatten meta-data over de cellijnen:\n",
    "\n",
    "- depmap_id: unieke ID voor elke cellijn (bijvoorbeeld ACH-000973)\n",
    "- cell_line_display_name: leesbare naam van de cellijn (bijvoorbeeld 639V of BECKER)\n",
    "- lineage_1 t/m lineage_6: beschrijving van de biologische afkomst van de cellijn, van breed tot specifiek.\n",
    "\n",
    "Vanaf kolom 8 bevatten de overige kolommen de drug-response waarden voor verschillende geneesmiddelen, weergegeven als numerieke scores (AUC). Elke cellijn is getest voor meerdere geneesmiddelen, waarbij sommige waarden ontbreken (NaN).\n"
   ]
  },
  {
   "cell_type": "markdown",
   "id": "60252b13-49b4-49aa-8317-f34a2084e6b2",
   "metadata": {},
   "source": [
    "#### Stap 2. Filteren op relevante data\n",
    "\n",
    "Doel: alleen de biologische en analyse relevante mutaties behouden, zodat de dataset overzichtelijk blijft en rekentijd wordt bespaard.\n",
    "\n",
    "**Mutatiebestand**\n",
    "\n",
    "Acties:\n",
    "1. filteren op cellijntype: alleen cellijnen van het weefseltype \"lung\" worden behouden.\n",
    "2. filteren op relevante mutaties: niet alle mutaties zijn biologisch significant (veel varianten zijn neutraal of technisch artefact). Daarom worden alleen functionele mutaties behouden op basis van de volgende kolommen:\n",
    "   - LiklyLoF (verlies-van-functie mutaties)\n",
    "   - OncogeneHighImpact (activerende mutaties in oncogenen)\n",
    "   - TumorSuppressorHighImpact (verlies-van-remfunctie in tumorsuppressorgen)\n",
    "   - Hotspot (bekende activerende hotspot-mutaties)\n",
    "   - HessDriver (mutaties geidentificeerd als drivers)\n",
    "   Een mutatie wordt behouden als één of meer van deze criteria waar zijn.\n",
    "3. transformatie naar binaire matrix: voor elke cellijn (ModelID) wordt per gen (HugoSymbol) gekeken of er een relevante mutate aanwezig is. Wanneer een mutatie wordt gevonden dan krijgt deze waarde=1, anders waarde=0. Dit resulteert in een binaire matrix waarin rijen en cellijnen representeren en kolommen genen.\n"
   ]
  },
  {
   "cell_type": "code",
   "execution_count": 55,
   "id": "ba8aab31-faf3-449c-8c0f-d4656dc1c6d7",
   "metadata": {},
   "outputs": [
    {
     "name": "stdout",
     "output_type": "stream",
     "text": [
      "(1939, 18598)\n",
      "<bound method NDFrame.head of HugoSymbol  A1BG  A1CF  A2M  A2ML1  A3GALT2  A4GALT  A4GNT  AAAS  AACS  AADAC  \\\n",
      "ModelID                                                                         \n",
      "ACH-000001     0     0    0      0        0       0      0     1     0      0   \n",
      "ACH-000002     0     0    0      0        0       0      0     0     0      0   \n",
      "ACH-000004     0     0    0      0        0       0      0     0     0      0   \n",
      "ACH-000005     0     0    0      0        0       0      0     0     0      0   \n",
      "ACH-000006     0     0    0      0        0       0      0     0     0      0   \n",
      "...          ...   ...  ...    ...      ...     ...    ...   ...   ...    ...   \n",
      "ACH-003473     0     0    0      0        0       0      0     0     0      0   \n",
      "ACH-003474     0     0    0      0        0       0      0     0     0      0   \n",
      "ACH-003475     0     0    0      0        0       0      0     0     0      0   \n",
      "ACH-003476     0     0    0      0        0       0      0     0     0      0   \n",
      "ACH-003480     0     0    0      0        0       0      0     0     0      0   \n",
      "\n",
      "HugoSymbol  ...  ZW10  ZWILCH  ZXDA  ZXDB  ZXDC  ZYG11A  ZYG11B  ZYX  ZZEF1  \\\n",
      "ModelID     ...                                                               \n",
      "ACH-000001  ...     0       0     0     0     0       0       0    0      0   \n",
      "ACH-000002  ...     0       0     0     0     0       0       0    0      0   \n",
      "ACH-000004  ...     0       0     0     0     0       0       0    0      0   \n",
      "ACH-000005  ...     0       0     0     0     0       0       0    0      0   \n",
      "ACH-000006  ...     0       0     0     0     0       0       0    0      0   \n",
      "...         ...   ...     ...   ...   ...   ...     ...     ...  ...    ...   \n",
      "ACH-003473  ...     0       0     0     0     0       0       0    0      0   \n",
      "ACH-003474  ...     0       0     0     0     0       0       0    0      0   \n",
      "ACH-003475  ...     0       0     0     0     0       0       0    0      0   \n",
      "ACH-003476  ...     0       0     0     0     0       0       0    0      0   \n",
      "ACH-003480  ...     0       0     0     0     0       0       0    0      0   \n",
      "\n",
      "HugoSymbol  ZZZ3  \n",
      "ModelID           \n",
      "ACH-000001     0  \n",
      "ACH-000002     0  \n",
      "ACH-000004     0  \n",
      "ACH-000005     0  \n",
      "ACH-000006     0  \n",
      "...          ...  \n",
      "ACH-003473     0  \n",
      "ACH-003474     0  \n",
      "ACH-003475     0  \n",
      "ACH-003476     0  \n",
      "ACH-003480     0  \n",
      "\n",
      "[1939 rows x 18598 columns]>\n"
     ]
    }
   ],
   "source": [
    "# Filter alleen biologisch relevante mutaties\n",
    "filtered = mutatie_df[\n",
    "    mutatie_df['LikelyLoF'] |\n",
    "    mutatie_df['OncogeneHighImpact'] |\n",
    "    mutatie_df['TumorSuppressorHighImpact'] |\n",
    "    mutatie_df['Hotspot'] |\n",
    "    mutatie_df['HessDriver']\n",
    "]\n",
    "\n",
    "# Maak binaire matrix per gen per celijn\n",
    "mut_matrix = (\n",
    "    filtered\n",
    "    .assign(mutated=1)\n",
    "    .pivot_table(index='ModelID', columns='HugoSymbol', values='mutated', fill_value=0)\n",
    "    .astype(int) \n",
    ")\n",
    "\n",
    "print(mut_matrix.shape)\n",
    "print(mut_matrix.head)\n"
   ]
  },
  {
   "cell_type": "code",
   "execution_count": null,
   "id": "67f70d50-1a8a-4fa0-92ab-fc9df7fa06cd",
   "metadata": {},
   "outputs": [],
   "source": []
  },
  {
   "cell_type": "code",
   "execution_count": null,
   "id": "5abcca14-888d-4ce9-a8d5-434d3a0c83c1",
   "metadata": {},
   "outputs": [],
   "source": []
  },
  {
   "cell_type": "markdown",
   "id": "652a716f-fe8b-4d3b-bea0-6b39195578ea",
   "metadata": {},
   "source": [
    "Output: \n",
    "- elke rij is een longkankercellijn\n",
    "- elke kolom is een gen\n",
    "- een waarde van 1 betekent dat er in die cellijn minstens één functionele mutatie aanwezig is in dat gen\n",
    "- een waarde van 0 betekent dat er in die cellijn geen relevante mutatie aanwezig is in dat gen\n",
    "\n",
    "Deze gefilterde en geformatteerde matrix is nu klaar om te geombineerd te worden met de andere datasets (methylatie, drug-response)"
   ]
  },
  {
   "cell_type": "markdown",
   "id": "b1d3f331-3df6-466b-b91c-55e414eb8ffa",
   "metadata": {},
   "source": [
    "#### Stap 3. Opschonen\n",
    "\n",
    "Doel: ervoor zorgen dat alle bestanden dezelfde structuur en sleutel-IDs gebruiken.\n",
    "\n",
    "De kolomnamen moeten worden gestandaardiseerd. Dit houd in dat alledrie de bestanden dezelfde sleutel-IDs moeten krijgen: cell_line_id. Ook moeten dubbele rijen of niet-unieke cellijnen moeten worden verwijderd. Er moet gecontroleerd worden op ontbrekende waarden (NaN) in de belangrijke kolommen. Dit is belangrijk om fouten te voorkomen bij het samenvoegen.\n",
    "\n",
    "**xxx** avc_covverage in deze stap? > Waarden lager dan 10 worden verwijderd, omdat deze metingen onvoldoende dekking hebben om betrouwbare methylatiegegevens te geven. Dit voorkomt dat technische ruis invloed heeft op het model."
   ]
  },
  {
   "cell_type": "markdown",
   "id": "9f931f01-dce9-4e01-b5c5-40813f2bde01",
   "metadata": {},
   "source": [
    "Binaire mutatiematrix per cellijn\n",
    "In deze stap wordt een binaire mutatiematrix aangemaakt op a"
   ]
  },
  {
   "cell_type": "markdown",
   "id": "1b4ef74c-607f-4d8e-8539-7e334f70c845",
   "metadata": {},
   "source": [
    "#### Stap 4. Transformatie van features\n",
    "\n",
    "Doel: \n",
    "- mutatiegegevens omzetten naar binaire variabelen (0=mutatie, 1=mutatie).\n",
    "- methylatiegegevens reduceren/aggregeren (gemiddelde pakken?)\n",
    "\n",
    "\n",
    "Machine-learningmodellen werken met numerieke inputs; binaire encoding wordt veelgebruikt.\n",
    "\n",
    "Methylatie heeft vaak duizenden features wat kan leiden tot overfitting? **meer uitleg nodig, bron**\n",
    "\n",
    "Wanneer er meerdere AUC-metingen zijn per cellijn moet het gemiddelde worden berekend."
   ]
  },
  {
   "cell_type": "code",
   "execution_count": null,
   "id": "05061827-05cd-4919-944f-99c21682281a",
   "metadata": {},
   "outputs": [],
   "source": []
  },
  {
   "cell_type": "markdown",
   "id": "4c58c392-d78d-4a63-8ef9-42bf85c0fc7d",
   "metadata": {},
   "source": [
    "#### Stap 5. Samenvoegen \n",
    "\n",
    "Doel: het creëren van één tabel waarin elke rij één cellijn is, met alle relevante features en bijbehorende responswaarde.\n",
    "\n",
    "De drie datasets worden samengevoegd op de gemeenschappelijke sleutel cell_line_id. \n",
    "\n",
    "Er wordt gebruik gemaakt van een **inner join** om ontbrekende waarden in de uiteindelijke tabel te voorkomen. Alleen cellijnen waarvan zowel moleculaire data (mutaties, methylatie) als responsdata beschikbaar zijn, worden behouden. Dit is een belangrijke eis voor supervised learning.\n",
    "\n",
    "check ook hoeveel cellijnen verloren gaan door die joing.\n"
   ]
  },
  {
   "cell_type": "code",
   "execution_count": null,
   "id": "50e80818-d248-49d2-93de-47ae4139dae4",
   "metadata": {},
   "outputs": [],
   "source": []
  },
  {
   "cell_type": "markdown",
   "id": "5956760b-b72a-414c-846d-906c090d1635",
   "metadata": {},
   "source": [
    "#### Stap 6. Controle op ontbrekende waarden\n",
    "\n",
    "Doel: controleren of de uiteindelijke dataset compleet genoeg is.\n",
    "\n",
    "Cellijnen met onbrekende AUC moeten worden verwijderd omdat machine-learningalgoritmen niet kunnen omgaan met ontbrekende waarden. \n",
    "\n"
   ]
  },
  {
   "cell_type": "code",
   "execution_count": null,
   "id": "6a9dcb31-2b5c-45cf-92ea-7c3b300500ae",
   "metadata": {},
   "outputs": [],
   "source": []
  },
  {
   "cell_type": "markdown",
   "id": "678b473a-fc8f-44aa-bf83-f5413d3568d6",
   "metadata": {},
   "source": [
    "#### Stap 7. Preprocessing voor machine learning\n",
    "\n",
    "Doel: de data omzetten naar numerieke vorm, schalen en voorbereiden voor modellering.\n",
    "\n",
    "**hier start scikit-learn** Pandas is vooral geschikt voor het inlezen, bewerken en samenvoegen van dataframes. Scikit-learn is gespecialiseerd in preprocessing. \n",
    "\n",
    "**xxx** verwijs naar scikit-learn tutorial?\n",
    "\n",
    "\n",
    "\n",
    "\n"
   ]
  },
  {
   "cell_type": "code",
   "execution_count": null,
   "id": "2d25d96d-8231-4936-82e4-1fb271d68a63",
   "metadata": {},
   "outputs": [],
   "source": []
  }
 ],
 "metadata": {
  "kernelspec": {
   "display_name": "Python (ml_oncoresponse)",
   "language": "python",
   "name": "ml_oncoresponse"
  },
  "language_info": {
   "codemirror_mode": {
    "name": "ipython",
    "version": 3
   },
   "file_extension": ".py",
   "mimetype": "text/x-python",
   "name": "python",
   "nbconvert_exporter": "python",
   "pygments_lexer": "ipython3",
   "version": "3.13.5"
  }
 },
 "nbformat": 4,
 "nbformat_minor": 5
}
