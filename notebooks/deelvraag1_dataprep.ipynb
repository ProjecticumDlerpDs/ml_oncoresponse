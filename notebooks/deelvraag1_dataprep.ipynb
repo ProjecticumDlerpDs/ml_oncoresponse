{
 "cells": [
  {
   "cell_type": "code",
   "execution_count": null,
   "id": "545efc06-0ca0-4302-89af-4ae2ca8ba547",
   "metadata": {},
   "outputs": [],
   "source": []
  },
  {
   "cell_type": "markdown",
   "id": "7d116a2b-2841-4afa-9424-f9fb3f7940c9",
   "metadata": {},
   "source": [
    "## Data-preparatie\n",
    "\n",
    "Dit notebook behandelt de data-preparatie en geeft antwoord op deelvraag 1:\n",
    "\n",
    "*\"Hoe kan cellijn-data (mutaties, methylatie, drug-respons) worden verzameld, opgeschoond en geschikt gemaakt voor machine learning?\"*\n",
    "\n",
    "Voor dit onderzoek worden vier afzonderlijke datasets gebruikt die afkomstig zijn van het CCLE-project (Cancer Cell Line Encyclopedia). De data beschrijven verschillende moleculaire kenmerken en annotaties van kankercellijnen:\n",
    "\n",
    "- OmicsSomaticMutations.csv - bevat de somatische mutatieprofielen van de cellijnen.\n",
    "- CCLE_RRBS_TSS1kb_20181022.txt - bevat DNA-methylatiegegevens gemeten rond de Transcription Start Site (TSS, ±1 kb). Dit gebied omvat zowel promoterregio's als het eerste exon, die belangrijk zijn voor genregulatie.\n",
    "- Drug_sensitivity_AUC_(PRISM_Repurposing_Secondary_Screen)_subsetted.csv - bevat therapieresponsgegevens (AUC-waarden) die aangeven hoe gevoelig een cellijn is voor een bepaald medicijn.\n",
    "- Cell_lines_annotations_20181226.txt - metadata-bestand met annotaties voor elke cellijn, inclusief `depMapID`, weefseltype (Site_Primary), histologie en andere klinisch-biologische kenmerken. Dit bestand wordt gebruikt om cellijnen te filteren op weefseltype en om gelijkmatigheid te creëren tussen de verschillende datasets. \n",
    "\n",
    "Het uiteindelijke doel is om een dataset te creëren waarin elke longkankercellijn zowel moleculaire kenmerken (mutaties en methylatie) als een responswaarde (AUC) bevat, zodat deze kan worden gebruikt als input voor supervised machine learning.\n",
    "\n",
    "**xxx** toelichting CpG sites en avg coverage (kwaliteitsmaat) xxx:\n",
    "CpG_sites_hg19 = genomische voordinaten van CpG-sites in het Hg19-genoom\n",
    "avg_coverage = maat voor de betrouwbaarheid van de methylatie-metingen op dat locus\n",
    "\n",
    "TSS=Transcription Start Site, het beginpunt van een gen waar transcriptie start.\n",
    "±1kb betekent dat de gemeten regio 1 kilobase (1000bp) upstream en downstream van de TSS ligt\n",
    "dus direct rond het begin van het gen, inclusief een stukje voor (promotorgebied) en erna (eerste exon/regio vlakbij TSS)\n",
    "\n",
    "- Upstream van TSS (~1000 bp): dit is meestal de promoter. Methylatie hier kan de transcriptie van het gen onderdrukken.\n",
    "- Downstream van TSS (~1000 bp): dit is vaak het 5’ einde van het gen, inclusief exon 1 of de 5’ UTR. Methylatie hier kan ook effect hebben op genexpressie. methylatie in deze regio kan het initiatiefase van transcriptie veranderen, waardoor het gen minder of anders wordt afgelezen\n",
    "\n",
    "Nadenken over avg_coverage. minimum instellen. te lagen waarden weglaten omdat de methylatiepercentages dan ruis bevatten (in de literatuur 10>)\n",
    "laat ook zien want de impact is van die drempel."
   ]
  },
  {
   "cell_type": "markdown",
   "id": "23c38d5f-83d4-463e-b171-570ad6b3a569",
   "metadata": {},
   "source": [
    "\n",
    "#### Stap 1. Data verkennen\n",
    "\n",
    "Doel: inzicht krijgen in de structuur van elk bestand voor het filteren en samenvoegen.\n",
    "\n",
    "Het is belangrijk om de kolomnamen, rijenstructuur en datatypes te begrijpen. Zo krijg je inzicht in welke kolommen relevant zijn (bijv. cell_line_id, gene, AUC, avg_coverage) en kun je bepalen hoe de datasets aan elkaar gekoppeld kunnen worden.\n",
    "\n",
    "stappen:\n",
    "Controleer het aantal rijen/kolommen.\n",
    "Bekijk een paar voorbeeldrijen om de structuur te snappen.\n",
    "Noteer de naam van de kolom die de cellijn identificeert (ID).\n",
    "Kijk of de kolomnamen consistent zijn tussen bestanden.\n",
    "Kijk hoeveel unieke cellijnen er per bestand zijn.))\n"
   ]
  },
  {
   "cell_type": "code",
   "execution_count": 56,
   "id": "092e1d4e-41a2-4b67-a13b-852104736c85",
   "metadata": {},
   "outputs": [
    {
     "name": "stdout",
     "output_type": "stream",
     "text": [
      "<class 'pandas.core.frame.DataFrame'>\n",
      "RangeIndex: 751310 entries, 0 to 751309\n",
      "Data columns (total 70 columns):\n",
      " #   Column                           Non-Null Count   Dtype  \n",
      "---  ------                           --------------   -----  \n",
      " 0   Chrom                            751310 non-null  object \n",
      " 1   Pos                              751310 non-null  int64  \n",
      " 2   Ref                              751310 non-null  object \n",
      " 3   Alt                              751310 non-null  object \n",
      " 4   AF                               751310 non-null  float64\n",
      " 5   DP                               751310 non-null  int64  \n",
      " 6   RefCount                         751310 non-null  int64  \n",
      " 7   AltCount                         751310 non-null  int64  \n",
      " 8   GT                               751310 non-null  object \n",
      " 9   PS                               44923 non-null   float64\n",
      " 10  VariantType                      751310 non-null  object \n",
      " 11  VariantInfo                      751310 non-null  object \n",
      " 12  DNAChange                        750960 non-null  object \n",
      " 13  ProteinChange                    726857 non-null  object \n",
      " 14  HugoSymbol                       751310 non-null  object \n",
      " 15  Exon                             728937 non-null  object \n",
      " 16  Intron                           23986 non-null   object \n",
      " 17  EnsemblGeneID                    751310 non-null  object \n",
      " 18  EnsemblFeatureID                 751310 non-null  object \n",
      " 19  HgncName                         734284 non-null  object \n",
      " 20  HgncFamily                       531438 non-null  object \n",
      " 21  UniprotID                        433949 non-null  object \n",
      " 22  DbsnpRsID                        12007 non-null   object \n",
      " 23  GcContent                        751310 non-null  float64\n",
      " 24  LofGeneName                      102748 non-null  object \n",
      " 25  LofGeneId                        102748 non-null  object \n",
      " 26  LofNumberOfTranscriptsInGene     102748 non-null  float64\n",
      " 27  LofPercentOfTranscriptsAffected  102748 non-null  float64\n",
      " 28  NMD                              30606 non-null   object \n",
      " 29  MolecularConsequence             25215 non-null   object \n",
      " 30  VepImpact                        751310 non-null  object \n",
      " 31  VepBiotype                       751310 non-null  object \n",
      " 32  VepHgncID                        751294 non-null  object \n",
      " 33  VepExistingVariation             397193 non-null  object \n",
      " 34  VepManeSelect                    735516 non-null  object \n",
      " 35  VepENSP                          749044 non-null  object \n",
      " 36  VepSwissprot                     693449 non-null  object \n",
      " 37  Sift                             599796 non-null  object \n",
      " 38  Polyphen                         577290 non-null  object \n",
      " 39  GnomadeAF                        751310 non-null  float64\n",
      " 40  GnomadgAF                        751310 non-null  float64\n",
      " 41  VepClinSig                       27442 non-null   object \n",
      " 42  VepSomatic                       254466 non-null  object \n",
      " 43  VepPliGeneValue                  664121 non-null  float64\n",
      " 44  VepLofTool                       562587 non-null  float64\n",
      " 45  OncogeneHighImpact               751310 non-null  bool   \n",
      " 46  TumorSuppressorHighImpact        751310 non-null  bool   \n",
      " 47  TranscriptLikelyLof              63420 non-null   object \n",
      " 48  Brca1FuncScore                   22 non-null      float64\n",
      " 49  CivicID                          1381 non-null    float64\n",
      " 50  CivicDescription                 728 non-null     object \n",
      " 51  CivicScore                       1381 non-null    float64\n",
      " 52  LikelyLoF                        751310 non-null  bool   \n",
      " 53  HessDriver                       751310 non-null  bool   \n",
      " 54  HessSignature                    2393 non-null    object \n",
      " 55  RevelScore                       574655 non-null  float64\n",
      " 56  PharmgkbId                       19 non-null      object \n",
      " 57  DidaID                           11 non-null      object \n",
      " 58  DidaName                         11 non-null      object \n",
      " 59  GwasDisease                      257 non-null     object \n",
      " 60  GwasPmID                         257 non-null     float64\n",
      " 61  GtexGene                         7 non-null       object \n",
      " 62  ProveanPrediction                558282 non-null  object \n",
      " 63  AMClass                          524520 non-null  object \n",
      " 64  AMPathogenicity                  524520 non-null  float64\n",
      " 65  Rescue                           751310 non-null  bool   \n",
      " 66  RescueReason                     18617 non-null   object \n",
      " 67  ModelID                          751310 non-null  object \n",
      " 68  Hotspot                          751310 non-null  bool   \n",
      " 69  EntrezGeneID                     744341 non-null  float64\n",
      "dtypes: bool(6), float64(16), int64(4), object(44)\n",
      "memory usage: 371.1+ MB\n",
      "  Chrom     Pos   Ref Alt     AF  DP  RefCount  AltCount   GT        PS  ...  \\\n",
      "0  chr1  818203     G   A  0.240  27        21         6  0/1       NaN  ...   \n",
      "1  chr1  851926     G   A  0.158  17        15         2  0/1       NaN  ...   \n",
      "2  chr1  918916  CTGA   C  0.462  51        28        23  0/1       NaN  ...   \n",
      "3  chr1  924510    GC  AA  0.412  35        21        14  0|1  924510.0  ...   \n",
      "4  chr1  924657     C   G  0.437  17         9         8  0/1       NaN  ...   \n",
      "\n",
      "  GwasPmID GtexGene ProveanPrediction AMClass AMPathogenicity Rescue  \\\n",
      "0      NaN      NaN               NaN     NaN             NaN  False   \n",
      "1      NaN      NaN               NaN     NaN             NaN  False   \n",
      "2      NaN      NaN               NaN     NaN             NaN  False   \n",
      "3      NaN      NaN               NaN     NaN             NaN  False   \n",
      "4      NaN      NaN               NaN     NaN             NaN  False   \n",
      "\n",
      "  RescueReason     ModelID Hotspot EntrezGeneID  \n",
      "0          NaN  ACH-000062   False     400728.0  \n",
      "1          NaN  ACH-001949   False     643837.0  \n",
      "2          NaN  ACH-002059   False  100130417.0  \n",
      "3          NaN  ACH-000402   False     148398.0  \n",
      "4          NaN  ACH-000693   False     148398.0  \n",
      "\n",
      "[5 rows x 70 columns]\n"
     ]
    }
   ],
   "source": [
    "import pandas as pd\n",
    "\n",
    "# aanmaken variabele met de bestandpad\n",
    "mutatie_file = \"../data/raw/OmicsSomaticMutations.csv\"\n",
    "\n",
    "# inlezen \n",
    "mutatie_df = pd.read_csv(mutatie_file, low_memory=False) # csv, geen tabs\n",
    "\n",
    "# verkenning\n",
    "mutatie_df.info()\n",
    "print(mutatie_df.head()) \n"
   ]
  },
  {
   "cell_type": "code",
   "execution_count": 119,
   "id": "30853d9f-849e-4a2d-bdb9-3ae9e549eed1",
   "metadata": {},
   "outputs": [
    {
     "data": {
      "text/plain": [
       "1939"
      ]
     },
     "execution_count": 119,
     "metadata": {},
     "output_type": "execute_result"
    }
   ],
   "source": [
    "mutatie_df['ModelID'].nunique()"
   ]
  },
  {
   "cell_type": "markdown",
   "id": "9b083fd8-6718-4f28-aa87-034caac01ab1",
   "metadata": {},
   "source": [
    "De mutatie-dataset bevat 751310 rijen en 70 kolommen en bestaat uit de volgende datatypen:\n",
    "\n",
    "- object: tekst/categorieën (bijvoorbeeld genen en mutatietypes)\n",
    "- float64: decimale waarden\n",
    "- bool: waar/onwaar waarden (True/False)\n",
    "- int64: hele getallen (bijvoorbeeld aantallen mutaties)\n",
    "\n",
    "Belangrijk voor dit onderzoek:\n",
    "ModelID: koppeling tussen datasets\n",
    "HugoSymbol/EnsemblGeneID: gen waarin mutatie voorkomt\n",
    "VariantType: type mutatie (feature voor ML)\n",
    "DNAChange/ProteinChange: optioneel voor interpretatie\n",
    "AF, RefCount, AltCount: betrouwbaarheid / filteren\n",
    "LikelyLoF, OncogeneHighImpact, TumorSuppressorHighImpact: impact op functie/belangrijke features\n",
    "Sift, Polyphen, RevelScore: schadelijkheidsvoorspelling\n",
    "PrimaryDisease/Tissue: filteren op longkankercellijnen"
   ]
  },
  {
   "cell_type": "code",
   "execution_count": 58,
   "id": "293e623f-b037-483b-a0e5-76a879827c42",
   "metadata": {},
   "outputs": [
    {
     "name": "stdout",
     "output_type": "stream",
     "text": [
      "Aantal rijen en kolommen: (21338, 846)\n",
      "Eerste 5 kolommen: ['locus_id', 'CpG_sites_hg19', 'avg_coverage', 'DMS53_LUNG', 'SW1116_LARGE_INTESTINE', 'P3HR1_HAEMATOPOIETIC_AND_LYMPHOID_TISSUE', 'HUT78_HAEMATOPOIETIC_AND_LYMPHOID_TISSUE', 'UMUC3_URINARY_TRACT', 'HOS_BONE', 'AML193_HAEMATOPOIETIC_AND_LYMPHOID_TISSUE']\n",
      "Laatste 5 kolommen: ['JHUEM7_ENDOMETRIUM', 'OE21_OESOPHAGUS', 'MOLT3_HAEMATOPOIETIC_AND_LYMPHOID_TISSUE', 'HOP62_LUNG', 'EKVX_LUNG', 'UO31_KIDNEY', 'SF268_CENTRAL_NERVOUS_SYSTEM', 'SF539_CENTRAL_NERVOUS_SYSTEM', 'SNB75_CENTRAL_NERVOUS_SYSTEM', 'HOP92_LUNG']\n",
      "                                       kolom   dtype  n_missing\n",
      "0                                   locus_id  object          0\n",
      "1                             CpG_sites_hg19  object          1\n",
      "2                               avg_coverage  object          0\n",
      "3                                 DMS53_LUNG  object          0\n",
      "4                     SW1116_LARGE_INTESTINE  object          0\n",
      "5   P3HR1_HAEMATOPOIETIC_AND_LYMPHOID_TISSUE  object          0\n",
      "6   HUT78_HAEMATOPOIETIC_AND_LYMPHOID_TISSUE  object          0\n",
      "7                        UMUC3_URINARY_TRACT  object          0\n",
      "8                                   HOS_BONE  object          0\n",
      "9  AML193_HAEMATOPOIETIC_AND_LYMPHOID_TISSUE  object          0\n",
      "                                        kolom   dtype  n_missing\n",
      "836                        JHUEM7_ENDOMETRIUM  object          0\n",
      "837                           OE21_OESOPHAGUS  object          0\n",
      "838  MOLT3_HAEMATOPOIETIC_AND_LYMPHOID_TISSUE  object          0\n",
      "839                                HOP62_LUNG  object          0\n",
      "840                                 EKVX_LUNG  object          0\n",
      "841                               UO31_KIDNEY  object          0\n",
      "842              SF268_CENTRAL_NERVOUS_SYSTEM  object          0\n",
      "843              SF539_CENTRAL_NERVOUS_SYSTEM  object          0\n",
      "844              SNB75_CENTRAL_NERVOUS_SYSTEM  object          0\n",
      "845                                HOP92_LUNG  object          0\n"
     ]
    }
   ],
   "source": [
    "# aanmaken variabele met de bestandpad\n",
    "methylatie_file = \"../data/raw/CCLE_RRBS_TSS1kb_20181022.txt\"\n",
    "\n",
    "# inlezen\n",
    "methylatie_df = pd.read_csv(methylatie_file, sep='\\t', low_memory=False) # txt, tab seperated\n",
    "\n",
    "# verkenning\n",
    "print(\"Aantal rijen en kolommen:\", methylatie_df.shape) # globale info\n",
    "\n",
    "# eerste en laatste 5 kolmmen bekijken\n",
    "print(\"Eerste 5 kolommen:\", methylatie_df.columns[:10].tolist())\n",
    "print(\"Laatste 5 kolommen:\", methylatie_df.columns[-10:].tolist())\n",
    "\n",
    "# datatypes en missende waarden per kolom bekijken\n",
    "kolom_info_methylatie = pd.DataFrame({ # aanmaken dataframe (met 3 kolommen)\n",
    "    'kolom': methylatie_df.columns,\n",
    "    'dtype': [methylatie_df[col].dtype for col in methylatie_df.columns],\n",
    "    'n_missing': [methylatie_df[col].isna().sum() for col in methylatie_df.columns] # bepaald totaal aantal missende waarden voor elke kolom\n",
    "})\n",
    "\n",
    "# eerste 10 en laatste 10 kolommen tonen als voorbeeld\n",
    "print(kolom_info_methylatie.head(10)) # eerste 10 kolommen\n",
    "print(kolom_info_methylatie.tail(10)) # laatste 10 kolommen"
   ]
  },
  {
   "cell_type": "markdown",
   "id": "5c3b2819-8192-4a9a-993a-08dd3f17ece8",
   "metadata": {},
   "source": [
    "De methylatie-dataset bevat 21338 rijen en 846 kolommen. Elke rij vertegenwoordigt een specifieke CpG-locus, een locatie op het DNA waar methylatie kan optreden.\n",
    "\n",
    "De eerste kolommen bevatten metadata:\n",
    "- `locus_id`: unieke identifier van de CpG-locus\n",
    "- `CpG_sites_hg19`:genoompositie van de locus\n",
    "- `avg_coverage`: gemiddelde meetdiepte, een maat voor de betrouwbaarheid van de meting\n",
    "\n",
    "Alle overige kolommen (vanaf kolom 4) vertegenwoordigen de cellijnen. Wat me opvalt is dat dit bestand geen ACH- of ModelID bevat. In plaats daarvan worden cellijnen geidentificeerd op basis van hun naam,  waarbij de kolomtitel zowel de cellijnnam als het weefseltype bevat  (bijvoorbeeld `DMS53_LUNG`).\n",
    "\n",
    "**Let op!** Om de drie datasets samen te voegen zal een mapping moeten worden gemaakt van deze kolomnamen naar de bijbehorende ACH_ID. Dit zal worden uitgevoerd in stap 5 (samenvoegen). "
   ]
  },
  {
   "cell_type": "code",
   "execution_count": 46,
   "id": "a5ee8d97-bc85-477e-b015-32305e55739d",
   "metadata": {
    "collapsed": true,
    "jupyter": {
     "outputs_hidden": true
    }
   },
   "outputs": [
    {
     "name": "stdout",
     "output_type": "stream",
     "text": [
      "Aantal rijen en kolommen: (480, 1457)\n",
      "                                               kolom    dtype  n_missing\n",
      "0                                          depmap_id   object          0\n",
      "1                             cell_line_display_name   object          0\n",
      "2                                          lineage_1   object          0\n",
      "3                                          lineage_2   object          0\n",
      "4                                          lineage_3   object          0\n",
      "5                                          lineage_6   object        436\n",
      "6                                          lineage_4  float64        480\n",
      "7          8-BROMO-CGMP (BRD:BRD-A00077618-236-07-6)  float64        370\n",
      "8          NORETYNODREL (BRD:BRD-A00758722-001-04-9)  float64         98\n",
      "9  PREDNISOLONE-ACETATE (BRD:BRD-A01643550-001-04-9)  float64        432\n",
      "                                                  kolom    dtype  n_missing\n",
      "1447            LORLATINIB (BRD:BRD-K99879819-001-02-1)  float64        326\n",
      "1448       HEXYLRESORCINOL (BRD:BRD-K99946902-001-07-5)  float64        212\n",
      "1449               BOSULIF (BRD:BRD-K99964838-001-11-9)  float64        220\n",
      "1450      AMMONIUM-LACTATE (BRD:BRD-M29182745-001-01-4)  float64        433\n",
      "1451           NEMONAPRIDE (BRD:BRD-M80207679-001-01-5)  float64        446\n",
      "1452            CROMAKALIM (BRD:BRD-M89827113-001-01-5)  float64        325\n",
      "1453  EFONIDIPINE-MONOETHANOLATE (BRD:BRD-M92675308-...  float64        164\n",
      "1454       DICHLOROACETATE (BRD:BRD-M97302542-001-04-4)  float64        234\n",
      "1455             TYLOXAPOL (BRD:BRD-U25960968-000-01-9)  float64        386\n",
      "1456             SEVELAMER (BRD:BRD-U45393375-000-01-6)  float64        463\n",
      "    depmap_id cell_line_display_name              lineage_1  \\\n",
      "0  ACH-000973                   639V  Bladder/Urinary Tract   \n",
      "1  ACH-001016                 BECKER              CNS/Brain   \n",
      "2  ACH-000927                  BT474                 Breast   \n",
      "3  ACH-000288                  BT549                 Breast   \n",
      "4  ACH-000212                 CAL120                 Breast   \n",
      "\n",
      "                   lineage_2                         lineage_3  \\\n",
      "0            Urethral Cancer     Urethral Urothelial Carcinoma   \n",
      "1             Diffuse Glioma                       Astrocytoma   \n",
      "2  Invasive Breast Carcinoma  Breast Invasive Ductal Carcinoma   \n",
      "3  Invasive Breast Carcinoma    Breast Invasive Carcinoma, NOS   \n",
      "4  Invasive Breast Carcinoma         Invasive Breast Carcinoma   \n",
      "\n",
      "         lineage_6  lineage_4  8-BROMO-CGMP (BRD:BRD-A00077618-236-07-6)  \\\n",
      "0              NaN        NaN                                   0.887284   \n",
      "1              NaN        NaN                                   0.932656   \n",
      "2  ER+, PR+, HER2+        NaN                                        NaN   \n",
      "3     Basal B TNBC        NaN                                        NaN   \n",
      "4     Basal B TNBC        NaN                                        NaN   \n",
      "\n",
      "   NORETYNODREL (BRD:BRD-A00758722-001-04-9)  \\\n",
      "0                                   0.870060   \n",
      "1                                   0.950242   \n",
      "2                                   0.874661   \n",
      "3                                   0.974322   \n",
      "4                                        NaN   \n",
      "\n",
      "   PREDNISOLONE-ACETATE (BRD:BRD-A01643550-001-04-9)  \n",
      "0                                                NaN  \n",
      "1                                                NaN  \n",
      "2                                                NaN  \n",
      "3                                                NaN  \n",
      "4                                                NaN  \n"
     ]
    }
   ],
   "source": [
    "# aanmaken variabele met de bestandpad\n",
    "response_file = \"../data/raw/Drug_sensitivity_AUC_(PRISM_Repurposing_Secondary_Screen)_subsetted.csv\"\n",
    "# inlezen\n",
    "response_df = pd.read_csv(response_file, sep=',') # comma seperated\n",
    "\n",
    "# verkenning\n",
    "print(\"Aantal rijen en kolommen:\", response_df.shape) # geeft het aantal rijen en kolommen\n",
    "\n",
    "# datatypes en missende waarden per kolom bekijken\n",
    "kolom_info_response = pd.DataFrame({\n",
    "    'kolom': response_df.columns,\n",
    "    'dtype': [response_df[col].dtype for col in response_df.columns],\n",
    "    'n_missing': [response_df[col].isna().sum() for col in response_df.columns]\n",
    "})\n",
    "\n",
    "# eerste 20 kolommen tonen als voorbeeld\n",
    "print(kolom_info_response.head(10))\n",
    "print(kolom_info_response.tail(10))\n",
    "\n",
    "print(response_df.iloc[:5,:10])"
   ]
  },
  {
   "cell_type": "markdown",
   "id": "75fb1f3d-aade-44b4-8ff8-70de937f1ba1",
   "metadata": {
    "jupyter": {
     "source_hidden": true
    }
   },
   "source": [
    "De response-dataset bevat 480 rijen, waarbij elke rij een unieke cellijn representeert, en 1457 kolommen. \n",
    "De eerste kolommen bevatten meta-data over de cellijnen:\n",
    "\n",
    "- depmap_id: unieke ID voor elke cellijn (bijvoorbeeld ACH-000973)\n",
    "- cell_line_display_name: leesbare naam van de cellijn (bijvoorbeeld 639V of BECKER)\n",
    "- lineage_1 t/m lineage_6: beschrijving van de biologische afkomst van de cellijn, van breed tot specifiek.\n",
    "\n",
    "Vanaf kolom 8 bevatten de overige kolommen de drug-response waarden voor verschillende geneesmiddelen, weergegeven als numerieke scores (AUC). Elke cellijn is getest voor meerdere geneesmiddelen, waarbij sommige waarden ontbreken (NaN).\n"
   ]
  },
  {
   "cell_type": "code",
   "execution_count": 129,
   "id": "4813cfce-75ce-440f-a5c8-07929ff30b31",
   "metadata": {
    "scrolled": true
   },
   "outputs": [
    {
     "name": "stdout",
     "output_type": "stream",
     "text": [
      "Aantal rijen en kolommen: (1461, 33)\n",
      "Index(['CCLE_ID', 'depMapID', 'Name', 'Pathology', 'Site_Primary',\n",
      "       'Site_Subtype1', 'Site_Subtype2', 'Site_Subtype3', 'Histology',\n",
      "       'Hist_Subtype1', 'Hist_Subtype2', 'Hist_Subtype3', 'Gender',\n",
      "       'Life_Stage', 'Age', 'Race', 'Geo_Loc', 'inferred_ethnicity',\n",
      "       'Site_Of_Finding', 'Disease', 'Annotation_Source',\n",
      "       'Original.Source.of.Cell.Line', 'Characteristics', 'Growth.Medium',\n",
      "       'Supplements', 'Freezing.Medium', 'Doubling.Time.from.Vendor',\n",
      "       'Doubling.Time.Calculated.hrs', 'type', 'type_refined',\n",
      "       'PATHOLOGIST_ANNOTATION', 'mutRate', 'tcga_code'],\n",
      "      dtype='object')\n",
      "                                    CCLE_ID    depMapID       Name  \\\n",
      "0                                DMS53_LUNG  ACH-000698     DMS 53   \n",
      "1                    SW1116_LARGE_INTESTINE  ACH-000489     SW1116   \n",
      "2                             NCIH1694_LUNG  ACH-000431  NCI-H1694   \n",
      "3  P3HR1_HAEMATOPOIETIC_AND_LYMPHOID_TISSUE  ACH-000707     P3HR-1   \n",
      "4  HUT78_HAEMATOPOIETIC_AND_LYMPHOID_TISSUE  ACH-000509     HuT 78   \n",
      "\n",
      "                         Site_Primary Site_Subtype1 Site_Subtype2  \\\n",
      "0                                lung            NS            NS   \n",
      "1                     large_intestine         colon            NS   \n",
      "2                                lung            NS            NS   \n",
      "3  haematopoietic_and_lymphoid_tissue            NS            NS   \n",
      "4  haematopoietic_and_lymphoid_tissue          skin            NS   \n",
      "\n",
      "  Site_Subtype3            Disease  \n",
      "0            NS        lung_cancer  \n",
      "1            NS                NaN  \n",
      "2            NS                NaN  \n",
      "3            NS  Burkitts lymphoma  \n",
      "4            NS    sezary_syndrome  \n"
     ]
    }
   ],
   "source": [
    "# inlezen van het metadata-bestand\n",
    "metadata_file = \"../data/raw/Cell_lines_annotations_20181226.txt\"\n",
    "metadata_df = pd.read_csv(metadata_file, sep='\\t', low_memory=False) # txt, tab seperated\n",
    "\n",
    "# verkenning\n",
    "print(\"Aantal rijen en kolommen:\", metadata_df.shape) # globale info\n",
    "\n",
    "print(metadata_df.columns)\n",
    "\n",
    "# belangrijke kolommen selecteren\n",
    "cols = ['CCLE_ID', 'depMapID', 'Name', 'Site_Primary', \n",
    "        'Site_Subtype1', 'Site_Subtype2', 'Site_Subtype3', 'Disease']\n",
    "\n",
    "# alleen de eerste rijen met deze kolommen tonen\n",
    "print(metadata_df[cols].head())\n"
   ]
  },
  {
   "cell_type": "markdown",
   "id": "5f2f688e-c1a8-4c42-b389-bb6a1515fa23",
   "metadata": {},
   "source": [
    "beschrijving output metadata\n",
    "aantal rijen en kolomme, de kolommen en de eerste 5 regels van de relevante kolommen die nodig zijn ..."
   ]
  },
  {
   "cell_type": "markdown",
   "id": "60252b13-49b4-49aa-8317-f34a2084e6b2",
   "metadata": {},
   "source": [
    "#### Stap 2. Filteren op relevante data\n",
    "\n",
    "Doel: alleen de biologische en analyse relevante mutaties behouden, zodat de dataset overzichtelijk blijft en rekentijd wordt bespaard.\n",
    "\n",
    "**Mutatiebestand**\n",
    "\n",
    "Acties:\n",
    "1. filteren op cellijntype: alleen cellijnen van het weefseltype \"lung\" worden behouden.\n",
    "2. filteren op relevante mutaties: niet alle mutaties zijn biologisch significant (veel varianten zijn neutraal of technisch artefact). Daarom worden alleen functionele mutaties behouden op basis van de volgende kolommen:\n",
    "   - LiklyLoF (verlies-van-functie mutaties)\n",
    "   - OncogeneHighImpact (activerende mutaties in oncogenen)\n",
    "   - TumorSuppressorHighImpact (verlies-van-remfunctie in tumorsuppressorgen)\n",
    "   - Hotspot (bekende activerende hotspot-mutaties)\n",
    "   - HessDriver (mutaties geidentificeerd als drivers)\n",
    "   Een mutatie wordt behouden als één of meer van deze criteria waar zijn.\n",
    "3. transformatie naar binaire matrix: voor elke cellijn (ModelID) wordt per gen (HugoSymbol) gekeken of er een relevante mutate aanwezig is. Wanneer een mutatie wordt gevonden dan krijgt deze waarde=1, anders waarde=0. Dit resulteert in een binaire matrix waarin rijen en cellijnen representeren en kolommen genen.\n"
   ]
  },
  {
   "cell_type": "code",
   "execution_count": 123,
   "id": "2ce0cd8b-5bba-4796-bb4d-3f4e275eb40c",
   "metadata": {},
   "outputs": [
    {
     "name": "stdout",
     "output_type": "stream",
     "text": [
      "   Chrom     Pos Ref Alt     AF  DP  RefCount  AltCount   GT  PS  ...  \\\n",
      "0   chr1  818203   G   A  0.240  27        21         6  0/1 NaN  ...   \n",
      "15  chr1  939091   G   A  0.500  30        15        15  0/1 NaN  ...   \n",
      "17  chr1  939389   A   C  0.250  10         8         2  0/1 NaN  ...   \n",
      "26  chr1  942868   A   C  0.649  46        16        30  0/1 NaN  ...   \n",
      "39  chr1  944763   C  CA  0.247   9         7         2  0/1 NaN  ...   \n",
      "\n",
      "   GwasPmID GtexGene ProveanPrediction AMClass AMPathogenicity Rescue  \\\n",
      "0       NaN      NaN               NaN     NaN             NaN  False   \n",
      "15      NaN      NaN          Damaging     NaN             NaN  False   \n",
      "17      NaN      NaN          Damaging     NaN             NaN  False   \n",
      "26      NaN      NaN           Neutral     NaN             NaN  False   \n",
      "39      NaN      NaN               NaN     NaN             NaN  False   \n",
      "\n",
      "   RescueReason     ModelID Hotspot EntrezGeneID  \n",
      "0           NaN  ACH-000062   False     400728.0  \n",
      "15          NaN  ACH-000669   False     148398.0  \n",
      "17          NaN  ACH-000769   False     148398.0  \n",
      "26          NaN  ACH-000840   False     148398.0  \n",
      "39          NaN  ACH-000769   False      26155.0  \n",
      "\n",
      "[5 rows x 70 columns]\n",
      "Aantal mutaties in longkankercellijnen in mutatie_df: 80117\n",
      "Aantal longkankercellijnen: 174\n"
     ]
    }
   ],
   "source": [
    "# kolommen waar long kan voorkomen\n",
    "tissue_cols = ['Site_Primary', 'Site_Subtype1', 'Site_Subtype2', 'Site_Subtype3']\n",
    "\n",
    "# filteren op long \n",
    "lung_meta = metadata_df[metadata_df[tissue_cols].apply(lambda x: x.str.contains('lung', case = False, na = False)).any(axis=1)\n",
    "]\n",
    "\n",
    "# depMapIDs van longkankercellijnen ophalen\n",
    "lung_depmap_ids = lung_meta['depMapID'].tolist()\n",
    "\n",
    "# filter mutatie_df op longkankercellijnen\n",
    "lung_mutatie_df = mutatie_df[mutatie_df['ModelID'].isin(lung_depmap_ids)]\n",
    "\n",
    "# check resultaat\n",
    "print(lung_mutatie_df.head())\n",
    "print(f\"Aantal mutaties in longkankercellijnen in mutatie_df: {lung_mutatie_df.shape[0]}\")\n",
    "\n",
    "# unieke ModelIDs in gefilterde Dataframe op lung\n",
    "aantal_lung_cellijnen = lung_mutatie_df['ModelID'].nunique()\n",
    "print(f\"Aantal longkankercellijnen: {aantal_lung_cellijnen}\")\n",
    "\n"
   ]
  },
  {
   "cell_type": "code",
   "execution_count": 124,
   "id": "ba8aab31-faf3-449c-8c0f-d4656dc1c6d7",
   "metadata": {},
   "outputs": [
    {
     "name": "stdout",
     "output_type": "stream",
     "text": [
      "(174, 7358)\n",
      "<bound method NDFrame.head of HugoSymbol  A1CF  A2M  A2ML1  A4GALT  AAAS\n",
      "ModelID                                   \n",
      "ACH-000012     0    0      0       0     0\n",
      "ACH-000015     0    0      0       0     0\n",
      "ACH-000021     0    0      0       0     0\n",
      "ACH-000029     0    0      0       0     0\n",
      "ACH-000030     0    0      0       0     0\n",
      "...          ...  ...    ...     ...   ...\n",
      "ACH-001049     0    0      0       0     0\n",
      "ACH-001075     0    0      0       0     0\n",
      "ACH-001113     0    0      0       0     0\n",
      "ACH-001138     0    0      0       0     0\n",
      "ACH-001233     0    0      0       0     0\n",
      "\n",
      "[174 rows x 5 columns]>\n"
     ]
    }
   ],
   "source": [
    "# filter alleen biologisch relevante mutaties\n",
    "filtered = lung_mutatie_df[\n",
    "    lung_mutatie_df['LikelyLoF'] |\n",
    "    lung_mutatie_df['OncogeneHighImpact'] |\n",
    "    lung_mutatie_df['TumorSuppressorHighImpact'] |\n",
    "    lung_mutatie_df['Hotspot'] |\n",
    "    lung_mutatie_df['HessDriver']\n",
    "]\n",
    "\n",
    "# Maak binaire matrix per gen per celijn\n",
    "mut_matrix = (\n",
    "    filtered\n",
    "    .assign(mutated=1)\n",
    "    .pivot_table(index='ModelID', columns='HugoSymbol', values='mutated', fill_value=0)\n",
    "    .astype(int) \n",
    ")\n",
    "\n",
    "print(mut_matrix.shape)\n",
    "print(mut_matrix.iloc[:,:5].head)"
   ]
  },
  {
   "cell_type": "markdown",
   "id": "652a716f-fe8b-4d3b-bea0-6b39195578ea",
   "metadata": {},
   "source": [
    "Output: \n",
    "- de matrix bevat 174 rijen (één per longkankercellijn) en 7358 kolommen (één per gen).\n",
    "- elke rij komt overeen met een unieke cellijn (ModelID) die in de metadata geclassificeerd is als afkomstig van longweefsel.\n",
    "- elke kolom stelt een gen voor (`HugoSymbol`) dat ten minste één van de longkankercellijnen een relevante mutatie bevat.\n",
    "- de celwaarden zijn binair:\n",
    "    - 1 = het gen bevat minstens één relevante mutatie in die cellijn.\n",
    "    - 0 = het gen bevat geen relevante mutatie in die cellijn.\n"
   ]
  },
  {
   "cell_type": "code",
   "execution_count": null,
   "id": "45e2709f-6403-4756-95d9-dcf0fbe86265",
   "metadata": {},
   "outputs": [],
   "source": [
    "Methylatie bestand filteren \n",
    "xxx\n"
   ]
  },
  {
   "cell_type": "code",
   "execution_count": 100,
   "id": "41c5b57e-415c-40cd-8724-ad264dbb9f29",
   "metadata": {
    "scrolled": true
   },
   "outputs": [
    {
     "name": "stdout",
     "output_type": "stream",
     "text": [
      "Index(['locus_id', 'CpG_sites_hg19', 'avg_coverage', 'DMS53_LUNG',\n",
      "       'SW1116_LARGE_INTESTINE', 'P3HR1_HAEMATOPOIETIC_AND_LYMPHOID_TISSUE',\n",
      "       'HUT78_HAEMATOPOIETIC_AND_LYMPHOID_TISSUE', 'UMUC3_URINARY_TRACT',\n",
      "       'HOS_BONE', 'AML193_HAEMATOPOIETIC_AND_LYMPHOID_TISSUE', 'RVH421_SKIN',\n",
      "       'NCIH1184_LUNG', 'HCC2157_BREAST', 'NCIH2227_LUNG', 'SNU449_LIVER',\n",
      "       'NCIH28_PLEURA', 'OV56_OVARY', 'RMUGS_OVARY',\n",
      "       'LN229_CENTRAL_NERVOUS_SYSTEM',\n",
      "       'P31FUJ_HAEMATOPOIETIC_AND_LYMPHOID_TISSUE'],\n",
      "      dtype='object')\n"
     ]
    }
   ],
   "source": [
    "# check kolomnamen\n",
    "print(methylatie_df.columns[:20])"
   ]
  },
  {
   "cell_type": "markdown",
   "id": "2153d191-66bf-482b-8f54-12daa0f70979",
   "metadata": {},
   "source": [
    "Probleem: Methylatiebestand heeft geen DepMap- of ACH-ID's, maar gebrubikt kolomnamen die bestaan uit cellijnnaam + weefseltype (zoals DMS53_LUNG, SW1116_LARGE_INTESTINE). Elke kolom is een cellijn en elke rij is een metylatie-feature (CpG-site).\n",
    "\n",
    "In plaats van filteren op rijen, moeten de kolommen worden geselecteerd die bij longkanker horen (dus de kolommen waarvan de naam \"_LUNG\" bevat.\n"
   ]
  },
  {
   "cell_type": "code",
   "execution_count": 125,
   "id": "86d58352-78e0-44d9-99f8-0956988e96e7",
   "metadata": {
    "collapsed": true,
    "jupyter": {
     "outputs_hidden": true
    }
   },
   "outputs": [
    {
     "name": "stdout",
     "output_type": "stream",
     "text": [
      "Aantal longkankerkolommen: 153\n",
      "(21338, 156)\n",
      "<bound method NDFrame.head of                              locus_id  \\\n",
      "0           SGIP1_1_66998638_66999638   \n",
      "1           SGIP1_1_66998251_66999251   \n",
      "2           AZIN2_1_33545713_33546713   \n",
      "3           AZIN2_1_33546778_33547778   \n",
      "4           AGBL4_1_50489626_50490626   \n",
      "...                               ...   \n",
      "21333      SYCE3_22_51001381_51002381   \n",
      "21334     RABL2B_22_51222110_51223110   \n",
      "21335  RPL23AP82_22_51194513_51195513   \n",
      "21336  RPL23AP82_22_51221156_51222156   \n",
      "21337                           NA_NA   \n",
      "\n",
      "                                          CpG_sites_hg19 avg_coverage  \\\n",
      "0      1:66998970;1:66998973;1:66998993;1:66999404;1:...        25.00   \n",
      "1                       1:66998970;1:66998973;1:66998993         8.27   \n",
      "2      1:33546151;1:33546209;1:33546210;1:33546385;1:...       326.58   \n",
      "3      1:33546783;1:33546788;1:33546795;1:33546797;1:...       480.54   \n",
      "4      1:50489632;1:50489641;1:50489671;1:50489677;1:...       263.36   \n",
      "...                                                  ...          ...   \n",
      "21333  22:51001382;22:51001388;22:51001398;22:5100139...       359.68   \n",
      "21334                                        22:51222730         6.38   \n",
      "21335                22:51195083;22:51195404;22:51195430        62.10   \n",
      "21336  22:51222010;22:51222012;22:51222018;22:5122202...       179.18   \n",
      "21337                                                NaN           NA   \n",
      "\n",
      "      DMS53_LUNG NCIH1184_LUNG NCIH2227_LUNG RERFLCAD2_LUNG NCIH2347_LUNG  \\\n",
      "0        0.00000       0.11864       0.04545            NaN       0.25000   \n",
      "1        0.00000       0.22579           NaN            NaN           NaN   \n",
      "2        0.00729       0.22553       0.04560        0.14577       0.11487   \n",
      "3        0.22276       0.10735       0.03326        0.09589       0.21004   \n",
      "4        0.00000       0.07346       0.01246        0.00531       0.07422   \n",
      "...          ...           ...           ...            ...           ...   \n",
      "21333    0.00000       0.00000       0.00722        0.03099       0.00650   \n",
      "21334    0.00000       0.00000       0.00000        0.00000       0.00000   \n",
      "21335    0.00000       0.00000       0.01150        0.00000       0.00000   \n",
      "21336    0.00000       0.00000       0.00000        0.00000       0.00000   \n",
      "21337         NA            NA            NA             NA            NA   \n",
      "\n",
      "      NCIH2087_LUNG NCIH2085_LUNG  ... NCIH1944_LUNG NCIH2405_LUNG BEN_LUNG  \\\n",
      "0           0.86441       1.00000  ...       0.10344           NaN  0.90907   \n",
      "1           0.97871           NaN  ...       0.11110           NaN      NaN   \n",
      "2           0.17708       0.15413  ...       0.02693       0.00697  0.07692   \n",
      "3           0.35571       0.03926  ...       0.04961       0.00380  0.01200   \n",
      "4           0.60335       0.00000  ...       0.00130       0.11082  0.01485   \n",
      "...             ...           ...  ...           ...           ...      ...   \n",
      "21333       0.04710       0.00359  ...       0.07877       0.01422  0.00882   \n",
      "21334       0.00000       0.00000  ...       0.00000       0.00000  0.00000   \n",
      "21335       0.02777       0.20237  ...       0.03737       0.00992  0.01083   \n",
      "21336       0.11571       0.00000  ...       0.00952       0.00000  0.00000   \n",
      "21337            NA            NA  ...            NA            NA       NA   \n",
      "\n",
      "      NCIH727_LUNG HCC2935_LUNG LCLC103H_LUNG LCLC97TM1_LUNG HOP62_LUNG  \\\n",
      "0              NaN          NaN           NaN        1.00000         NA   \n",
      "1              NaN          NaN           NaN            NaN         NA   \n",
      "2          0.05825      0.24294       0.01045        0.03746         NA   \n",
      "3          0.12764      0.36441       0.24371        0.23342         NA   \n",
      "4          0.10371      0.01515       0.05079        0.86448         NA   \n",
      "...            ...          ...           ...            ...        ...   \n",
      "21333      0.00581      0.00000       0.08452        0.13561         NA   \n",
      "21334      0.00000      0.00000       0.00000        0.07140         NA   \n",
      "21335      0.00660      0.00000       0.00533        0.00187         NA   \n",
      "21336      0.00000      0.00000       0.00000        0.00155         NA   \n",
      "21337           NA           NA            NA             NA         NA   \n",
      "\n",
      "      EKVX_LUNG HOP92_LUNG  \n",
      "0            NA    0.66667  \n",
      "1            NA    0.66667  \n",
      "2            NA    0.00046  \n",
      "3            NA    0.05159  \n",
      "4            NA    0.54553  \n",
      "...         ...        ...  \n",
      "21333        NA    0.02364  \n",
      "21334        NA    0.00000  \n",
      "21335        NA    0.00000  \n",
      "21336        NA    0.00000  \n",
      "21337        NA         NA  \n",
      "\n",
      "[21338 rows x 156 columns]>\n"
     ]
    }
   ],
   "source": [
    "# filter kolommen waar \"LUNG\" in voorkomt\n",
    "lung_columns = [col for col in methylatie_df.columns if 'lung' in col.lower()]\n",
    "\n",
    "# maak dataframe met longkankercellijnen + locusinfo\n",
    "lung_methylatie_df = methylatie_df[['locus_id', 'CpG_sites_hg19', 'avg_coverage'] + lung_columns]\n",
    "\n",
    "print(f\"Aantal longkankerkolommen: {len(lung_columns)}\")\n",
    "print(lung_methylatie_df.shape)\n",
    "print(lung_methylatie_df.head)\n",
    "      \n"
   ]
  },
  {
   "cell_type": "markdown",
   "id": "7d4eb13f-6de5-4cbd-b52d-792b717168cf",
   "metadata": {},
   "source": [
    "uitleg over dat aantal features te hoog is, hoe verder filteren\n",
    "\n",
    "filteren op kwaliteit (avg coverage)\n"
   ]
  },
  {
   "cell_type": "code",
   "execution_count": 111,
   "id": "e2aa38ff-dd75-4d35-a8e6-31e897d5c917",
   "metadata": {},
   "outputs": [
    {
     "name": "stdout",
     "output_type": "stream",
     "text": [
      "Loci voor filtering op avg coverage: 21337\n",
      "Loci na filtering op avg coverage: 20898\n"
     ]
    }
   ],
   "source": [
    "# maak kopie \n",
    "lung_methylatie_df = lung_methylatie_df.copy()\n",
    "\n",
    "# converteer avg_coverage naar numeriek\n",
    "lung_methylatie_df['avg_coverage'] = pd.to_numeric(lung_methylatie_df['avg_coverage'], errors ='coerce')\n",
    "\n",
    "#verwijder rijen met NaN in avg_coverage\n",
    "lung_methylatie_df = lung_methylatie_df.dropna(subset=['avg_coverage'])\n",
    "\n",
    "# filter loci met avg_coverage >=10\n",
    "filtered_10_df = lung_methylatie_df[lung_methylatie_df['avg_coverage']>=10]\n",
    "\n",
    "# check hoe veel loci overblijven\n",
    "print(f\"Loci voor filtering op avg coverage: {len(lung_methylatie_df)}\")\n",
    "print(f\"Loci na filtering op avg coverage: {len(filtered_10_df)}\")\n"
   ]
  },
  {
   "cell_type": "code",
   "execution_count": null,
   "id": "b14116c4-8f16-4c6e-87d9-8fa93ad1a336",
   "metadata": {},
   "outputs": [],
   "source": []
  },
  {
   "cell_type": "markdown",
   "id": "a4d0107d-809b-4b86-99e6-11f72e8f1e6d",
   "metadata": {},
   "source": [
    "uitleg: voor ML zijn dit nog steeds te veel features (zeker voor 100-200 cellijnen).\n",
    "nu variantie-filtering:\n",
    "Bij DNA-methylatiegegevens worden duizende CpG-loci gemeten. Veel van deze GpC loci variëren nauwelijks tussen cellijnen. Deze lage-variantie loci voegen weinig voorspellende waarde toe voor machine learning en verhogen alleen de ruis en het aantal features. \n"
   ]
  },
  {
   "cell_type": "code",
   "execution_count": null,
   "id": "0fc6d2e6-a2e7-412e-bd94-7c266ed0ba9d",
   "metadata": {},
   "outputs": [],
   "source": []
  },
  {
   "cell_type": "code",
   "execution_count": 116,
   "id": "b5f21d52-51d5-4a36-b85d-01b85482494d",
   "metadata": {},
   "outputs": [
    {
     "name": "stdout",
     "output_type": "stream",
     "text": [
      "Aantal loci voor variantie-filtering: 20898\n",
      "Aantal loci na variantie-filtering: 12434\n"
     ]
    }
   ],
   "source": [
    "import numpy\n",
    "\n",
    "# Maak een kopie zodat we veilig bewerkingen kunnen doen\n",
    "filtered_10_df = filtered_10_df.copy()\n",
    "\n",
    "# Lijst van kolommen met alleen longkankercellijn-methylatie\n",
    "methylation_cols = [col for col in filtered_10_df.columns if col not in ['locus_id', 'CpG_sites_hg19', 'avg_coverage']]\n",
    "\n",
    "# Converteer alle waarden naar numeriek, foutieve waarden worden NaN\n",
    "filtered_10_df[methylation_cols] = filtered_10_df[methylation_cols].apply(pd.to_numeric, errors='coerce')\n",
    "\n",
    "# Optioneel: verwijder loci waar ALLE cellijnen NaN zijn\n",
    "filtered_10_df = filtered_10_df.dropna(subset=methylation_cols, how='all')\n",
    "\n",
    "# Bereken de standaardafwijking per locus over alle longkankercellijnen\n",
    "std_per_locus = filtered_10_df[methylation_cols].std(axis=1)\n",
    "\n",
    "# Stel drempel in: loci met std >= 0.05 behouden\n",
    "threshold = 0.05\n",
    "filtered_var_df = filtered_10_df[std_per_locus >= threshold]\n",
    "\n",
    "print(f\"Aantal loci voor variantie-filtering: {len(filtered_10_df)}\")\n",
    "print(f\"Aantal loci na variantie-filtering: {len(filtered_var_df)}\")\n"
   ]
  },
  {
   "cell_type": "code",
   "execution_count": 117,
   "id": "7fd5f626-c92a-4c78-8bad-46f14338ff06",
   "metadata": {
    "collapsed": true,
    "jupyter": {
     "outputs_hidden": true,
     "source_hidden": true
    }
   },
   "outputs": [
    {
     "name": "stdout",
     "output_type": "stream",
     "text": [
      "                    locus_id  \\\n",
      "0  SGIP1_1_66998638_66999638   \n",
      "2  AZIN2_1_33545713_33546713   \n",
      "3  AZIN2_1_33546778_33547778   \n",
      "4  AGBL4_1_50489626_50490626   \n",
      "6  CLIC4_1_25070759_25071759   \n",
      "\n",
      "                                      CpG_sites_hg19  avg_coverage  \\\n",
      "0  1:66998970;1:66998973;1:66998993;1:66999404;1:...         25.00   \n",
      "2  1:33546151;1:33546209;1:33546210;1:33546385;1:...        326.58   \n",
      "3  1:33546783;1:33546788;1:33546795;1:33546797;1:...        480.54   \n",
      "4  1:50489632;1:50489641;1:50489671;1:50489677;1:...        263.36   \n",
      "6  1:25070902;1:25070906;1:25071609;1:25071616;1:...        304.38   \n",
      "\n",
      "   DMS53_LUNG  NCIH1184_LUNG  NCIH2227_LUNG  RERFLCAD2_LUNG  NCIH2347_LUNG  \\\n",
      "0     0.00000        0.11864        0.04545             NaN        0.25000   \n",
      "2     0.00729        0.22553        0.04560         0.14577        0.11487   \n",
      "3     0.22276        0.10735        0.03326         0.09589        0.21004   \n",
      "4     0.00000        0.07346        0.01246         0.00531        0.07422   \n",
      "6     0.12261        0.05042        0.12625         0.09678        0.04676   \n",
      "\n",
      "   NCIH2087_LUNG  NCIH2085_LUNG  \n",
      "0        0.86441        1.00000  \n",
      "2        0.17708        0.15413  \n",
      "3        0.35571        0.03926  \n",
      "4        0.60335        0.00000  \n",
      "6        0.14154        0.03906  \n",
      "   DMS53_LUNG  NCIH1184_LUNG  NCIH2227_LUNG  RERFLCAD2_LUNG  NCIH2347_LUNG  \\\n",
      "0     0.00000        0.11864        0.04545             NaN        0.25000   \n",
      "2     0.00729        0.22553        0.04560         0.14577        0.11487   \n",
      "3     0.22276        0.10735        0.03326         0.09589        0.21004   \n",
      "4     0.00000        0.07346        0.01246         0.00531        0.07422   \n",
      "6     0.12261        0.05042        0.12625         0.09678        0.04676   \n",
      "\n",
      "   NCIH2087_LUNG  NCIH2085_LUNG  NCIH510_LUNG  NCIH2066_LUNG  NCIH1341_LUNG  \\\n",
      "0        0.86441        1.00000       0.00000            NaN            NaN   \n",
      "2        0.17708        0.15413       0.05894        0.04225        0.16046   \n",
      "3        0.35571        0.03926       0.28478        0.12770        0.46391   \n",
      "4        0.60335        0.00000       0.22090        0.01145        0.69029   \n",
      "6        0.14154        0.03906       0.00000        0.00000        0.12690   \n",
      "\n",
      "   ...  NCIH1944_LUNG  NCIH2405_LUNG  BEN_LUNG  NCIH727_LUNG  HCC2935_LUNG  \\\n",
      "0  ...        0.10344            NaN   0.90907           NaN           NaN   \n",
      "2  ...        0.02693        0.00697   0.07692       0.05825       0.24294   \n",
      "3  ...        0.04961        0.00380   0.01200       0.12764       0.36441   \n",
      "4  ...        0.00130        0.11082   0.01485       0.10371       0.01515   \n",
      "6  ...        0.12196        0.04292   0.12834       0.05154       0.00000   \n",
      "\n",
      "   LCLC103H_LUNG  LCLC97TM1_LUNG  HOP62_LUNG  EKVX_LUNG  HOP92_LUNG  \n",
      "0            NaN         1.00000         NaN        NaN     0.66667  \n",
      "2        0.01045         0.03746         NaN        NaN     0.00046  \n",
      "3        0.24371         0.23342         NaN        NaN     0.05159  \n",
      "4        0.05079         0.86448         NaN        NaN     0.54553  \n",
      "6        0.06977         0.11667         NaN        NaN     0.12500  \n",
      "\n",
      "[5 rows x 153 columns]\n"
     ]
    }
   ],
   "source": [
    "# Bekijk de eerste 5 rijen en 10 kolommen van de dataset\n",
    "print(filtered_var_df.iloc[:5, :10])\n",
    "# Bekijk de eerste 5 rijen en alle methylatiekolommen\n",
    "methylation_cols = [col for col in filtered_var_df.columns if col not in ['locus_id', 'CpG_sites_hg19', 'avg_coverage']]\n",
    "print(filtered_var_df[methylation_cols].head())\n"
   ]
  },
  {
   "cell_type": "code",
   "execution_count": null,
   "id": "9c285f67-8d17-470e-bac8-8988b4e0e17c",
   "metadata": {},
   "outputs": [],
   "source": []
  },
  {
   "cell_type": "markdown",
   "id": "6ac9a624-e2a6-43e5-bb54-a1b3bc2ed9bc",
   "metadata": {},
   "source": [
    "Mapping en transponeren van methylatie DataFrame\n",
    "\n",
    "In deze stap voeren we twee acties uit:\n",
    "1. mapping van kolommen naar ACH-IDs\n",
    "2. Transponseren van de DataFrame\n",
    "\n",
    "Hierbij wordt ook een snelle controle uitgevoerd om te zien hoeveel cellijnen in methylatie en mutatie voorkomen en hoeveel in beide datasets overlappen. Dit is een check waarbij nog geen cellijnen worden verwijderd, omdat er later nog responswaarden bij komen"
   ]
  },
  {
   "cell_type": "code",
   "execution_count": 133,
   "id": "30a04234-9c05-42ba-9bdc-358cb0f883b7",
   "metadata": {
    "scrolled": true
   },
   "outputs": [
    {
     "name": "stdout",
     "output_type": "stream",
     "text": [
      "Aantal cellijnen na mapping: 153\n",
      "                    locus_id  \\\n",
      "0  SGIP1_1_66998638_66999638   \n",
      "2  AZIN2_1_33545713_33546713   \n",
      "3  AZIN2_1_33546778_33547778   \n",
      "4  AGBL4_1_50489626_50490626   \n",
      "6  CLIC4_1_25070759_25071759   \n",
      "\n",
      "                                      CpG_sites_hg19  avg_coverage  \\\n",
      "0  1:66998970;1:66998973;1:66998993;1:66999404;1:...         25.00   \n",
      "2  1:33546151;1:33546209;1:33546210;1:33546385;1:...        326.58   \n",
      "3  1:33546783;1:33546788;1:33546795;1:33546797;1:...        480.54   \n",
      "4  1:50489632;1:50489641;1:50489671;1:50489677;1:...        263.36   \n",
      "6  1:25070902;1:25070906;1:25071609;1:25071616;1:...        304.38   \n",
      "\n",
      "   ACH-000698  ACH-000523  ACH-000610  ACH-000774  ACH-000875  ACH-000841  \\\n",
      "0     0.00000     0.11864     0.04545         NaN     0.25000     0.86441   \n",
      "2     0.00729     0.22553     0.04560     0.14577     0.11487     0.17708   \n",
      "3     0.22276     0.10735     0.03326     0.09589     0.21004     0.35571   \n",
      "4     0.00000     0.07346     0.01246     0.00531     0.07422     0.60335   \n",
      "6     0.12261     0.05042     0.12625     0.09678     0.04676     0.14154   \n",
      "\n",
      "   ACH-000451  ...  ACH-000414  ACH-000121  ACH-000603  ACH-000775  \\\n",
      "0     1.00000  ...     0.10344         NaN     0.90907         NaN   \n",
      "2     0.15413  ...     0.02693     0.00697     0.07692     0.05825   \n",
      "3     0.03926  ...     0.04961     0.00380     0.01200     0.12764   \n",
      "4     0.00000  ...     0.00130     0.11082     0.01485     0.10371   \n",
      "6     0.03906  ...     0.12196     0.04292     0.12834     0.05154   \n",
      "\n",
      "   ACH-000150  ACH-000627  ACH-000596  ACH-000861  ACH-000706  ACH-000825  \n",
      "0         NaN         NaN     1.00000         NaN         NaN     0.66667  \n",
      "2     0.24294     0.01045     0.03746         NaN         NaN     0.00046  \n",
      "3     0.36441     0.24371     0.23342         NaN         NaN     0.05159  \n",
      "4     0.01515     0.05079     0.86448         NaN         NaN     0.54553  \n",
      "6     0.00000     0.06977     0.11667         NaN         NaN     0.12500  \n",
      "\n",
      "[5 rows x 156 columns]\n",
      "Aantal cellijnen in methylatie: 153\n",
      "Aantal cellijnen in mutaties: 174\n",
      "Aantal cellijnen in beide bestanden: 149\n",
      "Cellijnen alleen in methylatie: 4\n",
      "Cellijnen alleen in mutaties: 25\n"
     ]
    }
   ],
   "source": [
    "# Actie 1. mapping\n",
    "# alleen de methylatiekolommen van de overgebleven loci\n",
    "methylation_cols = [col for col in filtered_var_df.columns \n",
    "                    if col not in ['locus_id','CpG_sites_hg19','avg_coverage']]\n",
    "\n",
    "# maak mapping: CCLE_ID (kolomnaam) -> depMapID\n",
    "ccle2depmap = dict(zip(metadata_df['CCLE_ID'], metadata_df['depMapID']))\n",
    "\n",
    "# map kolommen en filter de cellijnen die geen mapping hebben eruit\n",
    "new_cols = []\n",
    "valid_cols = []\n",
    "for col in methylation_cols:\n",
    "    depmap_id = ccle2depmap.get(col)\n",
    "    if depmap_id:  # alleen keepen als mapping bestaat\n",
    "        new_cols.append(depmap_id)\n",
    "        valid_cols.append(col)\n",
    "\n",
    "# pas mapping toe op DataFrame\n",
    "meth_mapped_df = filtered_var_df[['locus_id','CpG_sites_hg19','avg_coverage'] + valid_cols].copy()\n",
    "meth_mapped_df.columns = ['locus_id','CpG_sites_hg19','avg_coverage'] + new_cols\n",
    "\n",
    "print(f\"Aantal cellijnen na mapping: {len(new_cols)}\")\n",
    "print(meth_mapped_df.head())\n",
    "\n",
    "# Actie 2. transponeren \n",
    "# transponeer methylatie zodat cellijnen rijen zijn en loci kolommen\n",
    "meth_T = meth_mapped_df.drop(columns=['locus_id','CpG_sites_hg19','avg_coverage']).T\n",
    "meth_T.index.name = 'ModelID'  # ACH-ID als index, net als in mut_matrix\n",
    "# Zorg dat de index in beide datasets de ACH-ID is\n",
    "meth_ids = set(meth_T.index)        # methylatie cellijnen\n",
    "mut_ids = set(mut_matrix.index)     # mutatie cellijnen\n",
    "\n",
    "# aantal unieke cellijnen in elk bestand\n",
    "print(f\"Aantal cellijnen in methylatie: {len(meth_ids)}\")\n",
    "print(f\"Aantal cellijnen in mutaties: {len(mut_ids)}\")\n",
    "\n",
    "# aantal cellijnen die in beide bestanden voorkomen\n",
    "common_ids = meth_ids.intersection(mut_ids)\n",
    "print(f\"Aantal cellijnen in beide bestanden: {len(common_ids)}\")\n",
    "\n",
    "# aantal cellijnen die alleen in methylatie zitten\n",
    "only_meth = meth_ids - mut_ids\n",
    "print(f\"Cellijnen alleen in methylatie: {len(only_meth)}\")\n",
    "\n",
    "# aantal cellijnen die alleen in mutaties zitten\n",
    "only_mut = mut_ids - meth_ids\n",
    "print(f\"Cellijnen alleen in mutaties: {len(only_mut)}\")\n",
    "\n"
   ]
  },
  {
   "cell_type": "markdown",
   "id": "b1d3f331-3df6-466b-b91c-55e414eb8ffa",
   "metadata": {},
   "source": [
    "#### Stap 3. Opschonen\n",
    "\n",
    "Doel: ervoor zorgen dat alle bestanden dezelfde structuur en sleutel-IDs gebruiken.\n",
    "\n",
    "De kolomnamen moeten worden gestandaardiseerd. Dit houd in dat alledrie de bestanden dezelfde sleutel-IDs moeten krijgen: cell_line_id. Ook moeten dubbele rijen of niet-unieke cellijnen moeten worden verwijderd. Er moet gecontroleerd worden op ontbrekende waarden (NaN) in de belangrijke kolommen. Dit is belangrijk om fouten te voorkomen bij het samenvoegen.\n",
    "\n",
    "**xxx** avc_covverage in deze stap? > Waarden lager dan 10 worden verwijderd, omdat deze metingen onvoldoende dekking hebben om betrouwbare methylatiegegevens te geven. Dit voorkomt dat technische ruis invloed heeft op het model."
   ]
  },
  {
   "cell_type": "markdown",
   "id": "1b4ef74c-607f-4d8e-8539-7e334f70c845",
   "metadata": {},
   "source": [
    "#### Stap 4. Transformatie van features\n",
    "\n",
    "Doel: \n",
    "- mutatiegegevens omzetten naar binaire variabelen (0=mutatie, 1=mutatie).\n",
    "- methylatiegegevens reduceren/aggregeren (gemiddelde pakken?)\n",
    "\n",
    "\n",
    "Machine-learningmodellen werken met numerieke inputs; binaire encoding wordt veelgebruikt.\n",
    "\n",
    "Methylatie heeft vaak duizenden features wat kan leiden tot overfitting? **meer uitleg nodig, bron**\n",
    "\n",
    "Wanneer er meerdere AUC-metingen zijn per cellijn moet het gemiddelde worden berekend."
   ]
  },
  {
   "cell_type": "code",
   "execution_count": 126,
   "id": "05061827-05cd-4919-944f-99c21682281a",
   "metadata": {},
   "outputs": [
    {
     "name": "stdout",
     "output_type": "stream",
     "text": [
      "Aantal overlappende cellijnen: 0\n",
      "Overlappende cellijnen: []\n"
     ]
    }
   ],
   "source": []
  },
  {
   "cell_type": "markdown",
   "id": "4c58c392-d78d-4a63-8ef9-42bf85c0fc7d",
   "metadata": {},
   "source": [
    "#### Stap 5. Samenvoegen \n",
    "\n",
    "Doel: het creëren van één tabel waarin elke rij één cellijn is, met alle relevante features en bijbehorende responswaarde.\n",
    "\n",
    "De drie datasets worden samengevoegd op de gemeenschappelijke sleutel cell_line_id. \n",
    "\n",
    "Er wordt gebruik gemaakt van een **inner join** om ontbrekende waarden in de uiteindelijke tabel te voorkomen. Alleen cellijnen waarvan zowel moleculaire data (mutaties, methylatie) als responsdata beschikbaar zijn, worden behouden. Dit is een belangrijke eis voor supervised learning.\n",
    "\n",
    "check ook hoeveel cellijnen verloren gaan door die joing.\n"
   ]
  },
  {
   "cell_type": "code",
   "execution_count": null,
   "id": "50e80818-d248-49d2-93de-47ae4139dae4",
   "metadata": {},
   "outputs": [],
   "source": []
  },
  {
   "cell_type": "markdown",
   "id": "5956760b-b72a-414c-846d-906c090d1635",
   "metadata": {},
   "source": [
    "#### Stap 6. Controle op ontbrekende waarden\n",
    "\n",
    "Doel: controleren of de uiteindelijke dataset compleet genoeg is.\n",
    "\n",
    "Cellijnen met onbrekende AUC moeten worden verwijderd omdat machine-learningalgoritmen niet kunnen omgaan met ontbrekende waarden. \n",
    "\n"
   ]
  },
  {
   "cell_type": "code",
   "execution_count": null,
   "id": "6a9dcb31-2b5c-45cf-92ea-7c3b300500ae",
   "metadata": {},
   "outputs": [],
   "source": []
  },
  {
   "cell_type": "markdown",
   "id": "678b473a-fc8f-44aa-bf83-f5413d3568d6",
   "metadata": {},
   "source": [
    "#### Stap 7. Preprocessing voor machine learning\n",
    "\n",
    "Doel: de data omzetten naar numerieke vorm, schalen en voorbereiden voor modellering.\n",
    "\n",
    "**hier start scikit-learn** Pandas is vooral geschikt voor het inlezen, bewerken en samenvoegen van dataframes. Scikit-learn is gespecialiseerd in preprocessing. \n",
    "\n",
    "**xxx** verwijs naar scikit-learn tutorial?\n",
    "\n",
    "\n",
    "\n",
    "\n"
   ]
  },
  {
   "cell_type": "code",
   "execution_count": null,
   "id": "2d25d96d-8231-4936-82e4-1fb271d68a63",
   "metadata": {},
   "outputs": [],
   "source": []
  }
 ],
 "metadata": {
  "kernelspec": {
   "display_name": "Python (ml_oncoresponse)",
   "language": "python",
   "name": "ml_oncoresponse"
  },
  "language_info": {
   "codemirror_mode": {
    "name": "ipython",
    "version": 3
   },
   "file_extension": ".py",
   "mimetype": "text/x-python",
   "name": "python",
   "nbconvert_exporter": "python",
   "pygments_lexer": "ipython3",
   "version": "3.13.5"
  }
 },
 "nbformat": 4,
 "nbformat_minor": 5
}
