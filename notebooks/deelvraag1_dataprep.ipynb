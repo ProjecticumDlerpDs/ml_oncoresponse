{
 "cells": [
  {
   "cell_type": "code",
   "execution_count": null,
   "id": "545efc06-0ca0-4302-89af-4ae2ca8ba547",
   "metadata": {},
   "outputs": [],
   "source": []
  },
  {
   "cell_type": "markdown",
   "id": "7d116a2b-2841-4afa-9424-f9fb3f7940c9",
   "metadata": {},
   "source": [
    "## Data-preparatie\n",
    "\n",
    "Dit notebook behandelt de data-preparatie en geeft antwoord op deelvraag 1:\n",
    "\n",
    "*\"Hoe kan cellijn-data (mutaties, methylatie, drug-respons) worden verzameld, opgeschoond en geschikt gemaakt voor machine learning?\"*\n",
    "\n",
    "Voor dit onderzoek worden drie afzonderlijke datasets gebruikt die afkomstig zijn van het CCLE-project (Cancer Cell Line Encyclopedia). De data beschrijven verschillende moleculaire kenmerken van kankercellijnen:\n",
    "\n",
    "- OmicsSomaticMutations.csv - bevat de somatische mutatieprofielen van de cellijnen.\n",
    "- CCLE_RRBS_TSS1kb_20181022.txt - bevat DNA-methylatiegegevens gemeten rond de Transcription Start Site (TSS, ±1 kb). Dit gebied omvat zowel promoterregio's als het eerste exon, die belangrijk zijn voor genregulatie.\n",
    "- Drug_sensitivity_AUC_(PRISM_Repurposing_Secondary_Screen)_subsetted.csv - bevat therapieresponsgegevens (AUC-waarden) die aangeven hoe gevoelig een cellijn is voor een bepaald medicijn.\n",
    "\n",
    "Het uiteindelijke doel is om een dataset te creëren waarin elke longkankercellijn zowel moleculaire kenmerken (mutaties en methylatie) als een responswaarde (AUC) bevat, zodat deze kan worden gebruikt als input voor supervised machine learning.\n",
    "\n",
    "**xxx** toelichting CpG sites en avg coverage (kwaliteitsmaat) xxx:\n",
    "CpG_sites_hg19 = genomische voordinaten van CpG-sites in het Hg19-genoom\n",
    "avg_coverage = maat voor de betrouwbaarheid van de methylatie-metingen op dat locus\n",
    "\n",
    "TSS=Transcription Start Site, het beginpunt van een gen waar transcriptie start.\n",
    "±1kb betekent dat de gemeten regio 1 kilobase (1000bp) upstream en downstream van de TSS ligt\n",
    "dus direct rond het begin van het gen, inclusief een stukje voor (promotorgebied) en erna (eerste exon/regio vlakbij TSS)\n",
    "\n",
    "- Upstream van TSS (~1000 bp): dit is meestal de promoter. Methylatie hier kan de transcriptie van het gen onderdrukken.\n",
    "- Downstream van TSS (~1000 bp): dit is vaak het 5’ einde van het gen, inclusief exon 1 of de 5’ UTR. Methylatie hier kan ook effect hebben op genexpressie. methylatie in deze regio kan het initiatiefase van transcriptie veranderen, waardoor het gen minder of anders wordt afgelezen\n",
    "\n",
    "Nadenken over avg_coverage. minimum instellen. te lagen waarden weglaten omdat de methylatiepercentages dan ruis bevatten (in de literatuur 10>)\n",
    "laat ook zien want de impact is van die drempel."
   ]
  },
  {
   "cell_type": "markdown",
   "id": "23c38d5f-83d4-463e-b171-570ad6b3a569",
   "metadata": {},
   "source": [
    "\n",
    "#### Stap 1. Data verkennen\n",
    "\n",
    "Doel: inzicht krijgen in de structuur van elk bestand voor het filteren en samenvoegen.\n",
    "\n",
    "Het is belangrijk om de kolomnamen, rijenstructuur en datatypes te begrijpen. Zo krijg je inzicht in welke kolommen relevant zijn (bijv. cell_line_id, gene, AUC, avg_coverage) en kun je bepalen hoe de datasets aan elkaar gekoppeld kunnen worden.\n",
    "\n",
    "stappen:\n",
    "Controleer het aantal rijen/kolommen.\n",
    "Bekijk een paar voorbeeldrijen om de structuur te snappen.\n",
    "Noteer de naam van de kolom die de cellijn identificeert (ID).\n",
    "Kijk of de kolomnamen consistent zijn tussen bestanden.\n",
    "Kijk hoeveel unieke cellijnen er per bestand zijn.))\n"
   ]
  },
  {
   "cell_type": "code",
   "execution_count": null,
   "id": "092e1d4e-41a2-4b67-a13b-852104736c85",
   "metadata": {},
   "outputs": [],
   "source": [
    "import pandas as pd\n",
    "\n",
    "# aanmaken variabele met de bestandpad\n",
    "mutatie_file = \"../data/raw/OmicsSomaticMutations.csv\"\n",
    "\n",
    "# inlezen \n",
    "mutatie_df = pd.read_csv(mutatie_file) # csv, geen tabs\n",
    "\n",
    "# controleer eerste paar rijen\n",
    "print(mutatie_df.head())\n"
   ]
  },
  {
   "cell_type": "code",
   "execution_count": null,
   "id": "293e623f-b037-483b-a0e5-76a879827c42",
   "metadata": {},
   "outputs": [],
   "source": [
    "# aanmaken variabele met de bestandpad\n",
    "methylatie_file = \"../data/raw/CCLE_RRBS_TSS1kb_20181022.txt\"\n",
    "\n",
    "# inlezen\n",
    "methylatie_df = pd.read_csv(methylatie_file, sep='\\t') # txt, tab seperated\n",
    "\n",
    "# controleer eerste paar rijen\n",
    "print(methylatie_df.head())"
   ]
  },
  {
   "cell_type": "code",
   "execution_count": null,
   "id": "60fde595-7a5e-4ac3-9bc2-e3415a2a7a2d",
   "metadata": {},
   "outputs": [],
   "source": [
    "# aanmaken variabele met de bestandpad\n",
    "response_file = \"../data/raw/Drug_sensitivity_AUC_(PRISM_Repurposing_Secondary_Screen)_subsetted.csv\"\n",
    "\n",
    "# inlezen\n",
    "response_df = pd.read_csv(response_file) # csv, geen tabs\n",
    "\n",
    "# controleer eerste paar rijen\n",
    "print(response_df.head())"
   ]
  },
  {
   "cell_type": "markdown",
   "id": "60252b13-49b4-49aa-8317-f34a2084e6b2",
   "metadata": {},
   "source": [
    "#### Stap 2. Filteren op relevante data\n",
    "\n",
    "Doel: alleen de gegevens behouden die biologisch en analytisch relevant zijn.\n",
    "\n",
    "De datasets worden beperkt tot de relevante subset (longkankercellijnen). Zo wordt voorkomen dat je een hele grote, onoverzichtelijke tabel krijgt met onnodige kolommen. Daarnaast bespaart het rekentijd.\n",
    "\n",
    "stappen:\n",
    "Filter cellijnen op weefseltype “lung”.\n",
    "Selecteer alleen de features/kolommen die je nodig hebt (bijv. genmutaties, methylatiepercentage, AUC).\n",
    "Voor methylatie: filter CpG-sites met avg_coverage < 10 om meetruis te verminderen — leg uit dat deze drempel in de literatuur wordt gebruikt om betrouwbaarheid te waarborgen (voeg bron toe)"
   ]
  },
  {
   "cell_type": "code",
   "execution_count": 2,
   "id": "27057c90-28fc-427a-8de0-6439be8a90d3",
   "metadata": {},
   "outputs": [],
   "source": [
    "#"
   ]
  },
  {
   "cell_type": "markdown",
   "id": "b1d3f331-3df6-466b-b91c-55e414eb8ffa",
   "metadata": {},
   "source": [
    "#### Stap 3. Opschonen\n",
    "\n",
    "Doel: ervoor zorgen dat alle bestanden dezelfde structuur en sleutel-IDs gebruiken.\n",
    "\n",
    "De kolomnamen moeten worden gestandaardiseerd. Dit houd in dat alledrie de bestanden dezelfde sleutel-IDs moeten krijgen: cell_line_id. Ook moeten dubbele rijen of niet-unieke cellijnen moeten worden verwijderd. Er moet gecontroleerd worden op ontbrekende waarden (NaN) in de belangrijke kolommen. Dit is belangrijk om fouten te voorkomen bij het samenvoegen.\n",
    "\n",
    "**xxx** avc_covverage in deze stap? > Waarden lager dan 10 worden verwijderd, omdat deze metingen onvoldoende dekking hebben om betrouwbare methylatiegegevens te geven. Dit voorkomt dat technische ruis invloed heeft op het model."
   ]
  },
  {
   "cell_type": "code",
   "execution_count": null,
   "id": "273f7332-8a85-4a1a-ab68-9a8deefef0c2",
   "metadata": {},
   "outputs": [],
   "source": []
  },
  {
   "cell_type": "markdown",
   "id": "1b4ef74c-607f-4d8e-8539-7e334f70c845",
   "metadata": {},
   "source": [
    "#### Stap 4. Transformatie van features\n",
    "\n",
    "Doel: \n",
    "- mutatiegegevens omzetten naar binaire variabelen (0=mutatie, 1=mutatie).\n",
    "- methylatiegegevens reduceren/aggregeren (gemiddelde pakken?)\n",
    "\n",
    "\n",
    "Machine-learningmodellen werken met numerieke inputs; binaire encoding wordt veelgebruikt.\n",
    "\n",
    "Methylatie heeft vaak duizenden features wat kan leiden tot overfitting? **meer uitleg nodig, bron**\n",
    "\n",
    "Wanneer er meerdere AUC-metingen zijn per cellijn moet het gemiddelde worden berekend."
   ]
  },
  {
   "cell_type": "code",
   "execution_count": null,
   "id": "05061827-05cd-4919-944f-99c21682281a",
   "metadata": {},
   "outputs": [],
   "source": []
  },
  {
   "cell_type": "markdown",
   "id": "4c58c392-d78d-4a63-8ef9-42bf85c0fc7d",
   "metadata": {},
   "source": [
    "#### Stap 5. Samenvoegen \n",
    "\n",
    "Doel: het creëren van één tabel waarin elke rij één cellijn is, met alle relevante features en bijbehorende responswaarde.\n",
    "\n",
    "De drie datasets worden samengevoegd op de gemeenschappelijke sleutel cell_line_id. \n",
    "\n",
    "Er wordt gebruik gemaakt van een **inner join** om ontbrekende waarden in de uiteindelijke tabel te voorkomen. Alleen cellijnen waarvan zowel moleculaire data (mutaties, methylatie) als responsdata beschikbaar zijn, worden behouden. Dit is een belangrijke eis voor supervised learning.\n",
    "\n",
    "check ook hoeveel cellijnen verloren gaan door die joing.\n"
   ]
  },
  {
   "cell_type": "code",
   "execution_count": null,
   "id": "50e80818-d248-49d2-93de-47ae4139dae4",
   "metadata": {},
   "outputs": [],
   "source": []
  },
  {
   "cell_type": "markdown",
   "id": "5956760b-b72a-414c-846d-906c090d1635",
   "metadata": {},
   "source": [
    "#### Stap 6. Controle op ontbrekende waarden\n",
    "\n",
    "Doel: controleren of de uiteindelijke dataset compleet genoeg is.\n",
    "\n",
    "Cellijnen met onbrekende AUC moeten worden verwijderd omdat machine-learningalgoritmen niet kunnen omgaan met ontbrekende waarden. \n",
    "\n"
   ]
  },
  {
   "cell_type": "code",
   "execution_count": null,
   "id": "6a9dcb31-2b5c-45cf-92ea-7c3b300500ae",
   "metadata": {},
   "outputs": [],
   "source": []
  },
  {
   "cell_type": "markdown",
   "id": "678b473a-fc8f-44aa-bf83-f5413d3568d6",
   "metadata": {},
   "source": [
    "#### Stap 7. Preprocessing voor machine learning\n",
    "\n",
    "Doel: de data omzetten naar numerieke vorm, schalen en voorbereiden voor modellering.\n",
    "\n",
    "**hier start scikit-learn** Pandas is vooral geschikt voor het inlezen, bewerken en samenvoegen van dataframes. Scikit-learn is gespecialiseerd in preprocessing. \n",
    "\n",
    "**xxx** verwijs naar scikit-learn tutorial?\n",
    "\n",
    "\n",
    "\n",
    "\n"
   ]
  },
  {
   "cell_type": "code",
   "execution_count": null,
   "id": "2d25d96d-8231-4936-82e4-1fb271d68a63",
   "metadata": {},
   "outputs": [],
   "source": []
  }
 ],
 "metadata": {
  "kernelspec": {
   "display_name": "Python (ml_oncoresponse)",
   "language": "python",
   "name": "ml_oncoresponse"
  },
  "language_info": {
   "codemirror_mode": {
    "name": "ipython",
    "version": 3
   },
   "file_extension": ".py",
   "mimetype": "text/x-python",
   "name": "python",
   "nbconvert_exporter": "python",
   "pygments_lexer": "ipython3",
   "version": "3.13.5"
  }
 },
 "nbformat": 4,
 "nbformat_minor": 5
}
